{
 "cells": [
  {
   "cell_type": "code",
   "execution_count": 7,
   "metadata": {
    "collapsed": true
   },
   "outputs": [],
   "source": [
    "import os\n",
    "from os.path import join as opj\n",
    "from glob import glob as glob\n",
    "import pandas as pd"
   ]
  },
  {
   "cell_type": "code",
   "execution_count": 5,
   "metadata": {
    "collapsed": false
   },
   "outputs": [],
   "source": [
    "mask_dir = \"/Users/andrebeukers/Documents/fMRI/RVstudy/visser_replicate/BIDSdataset/masks/FFA\"\n",
    "minfo_paths = glob(opj(mask_dir,\"sub-???_?Maskinfo.txt\"))\n"
   ]
  },
  {
   "cell_type": "code",
   "execution_count": 65,
   "metadata": {
    "collapsed": false
   },
   "outputs": [
    {
     "data": {
      "text/plain": [
       "{'sub-007': ' 12 survived, 140954 were zero',\n",
       " 'sub-009': ' 60 survived, 136435 were zero',\n",
       " 'sub-012': ' 30 survived, 140521 were zero',\n",
       " 'sub-014': ' 54 survived, 128019 were zero',\n",
       " 'sub-015': ' 25 survived, 138083 were zero',\n",
       " 'sub-016': ' 25 survived, 140573 were zero',\n",
       " 'sub-017': ' 8 survived, 140968 were zero',\n",
       " 'sub-018': ' 26 survived, 140865 were zero',\n",
       " 'sub-021': ' 33 survived, 140677 were zero',\n",
       " 'sub-024': ' 10 survived, 139871 were zero',\n",
       " 'sub-025': ' 19 survived, 140951 were zero',\n",
       " 'sub-026': ' 33 survived, 138091 were zero',\n",
       " 'sub-027': ' 22 survived, 139540 were zero',\n",
       " 'sub-028': ' 7 survived, 140451 were zero',\n",
       " 'sub-029': ' 27 survived, 140553 were zero',\n",
       " 'sub-030': ' 0 survived, 140945 were zero',\n",
       " 'sub-032': ' 38 survived, 140484 were zero',\n",
       " 'sub-033': ' 47 survived, 140630 were zero',\n",
       " 'sub-359': ' 14 survived, 140832 were zero'}"
      ]
     },
     "execution_count": 65,
     "metadata": {},
     "output_type": "execute_result"
    }
   ],
   "source": [
    "D = dict()\n",
    "\n",
    "for minfo_path in minfo_paths:\n",
    "    sub = minfo_path.split('/')[-1].split('_')[0]\n",
    "    minfo = pd.read_table(minfo_path)\n",
    "    idx = minfo.loc[2].str.find('clipped')\n",
    "    sub_info = minfo.loc[2][0][idx[0]+8:]\n",
    "    D[sub] = sub_info \n",
    "\n",
    "D"
   ]
  },
  {
   "cell_type": "code",
   "execution_count": null,
   "metadata": {
    "collapsed": true
   },
   "outputs": [],
   "source": []
  }
 ],
 "metadata": {
  "anaconda-cloud": {},
  "kernelspec": {
   "display_name": "Python [conda env:py3]",
   "language": "python",
   "name": "conda-env-py3-py"
  },
  "language_info": {
   "codemirror_mode": {
    "name": "ipython",
    "version": 3
   },
   "file_extension": ".py",
   "mimetype": "text/x-python",
   "name": "python",
   "nbconvert_exporter": "python",
   "pygments_lexer": "ipython3",
   "version": "3.5.2"
  }
 },
 "nbformat": 4,
 "nbformat_minor": 1
}

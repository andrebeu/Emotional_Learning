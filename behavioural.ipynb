{
 "cells": [
  {
   "cell_type": "code",
   "execution_count": 1,
   "metadata": {
    "collapsed": true
   },
   "outputs": [],
   "source": [
    "import os\n",
    "from os.path import join as opj\n",
    "from glob import glob as glob\n",
    "import pandas as pd\n"
   ]
  },
  {
   "cell_type": "code",
   "execution_count": 2,
   "metadata": {
    "collapsed": false
   },
   "outputs": [
    {
     "name": "stdout",
     "output_type": "stream",
     "text": [
      "['/Users/andrebeukers/Documents/fMRI/RVstudy/visser_replicate/ratings/10_scan_ball_ratings_2016_Apr_19_0828.csv', '/Users/andrebeukers/Documents/fMRI/RVstudy/visser_replicate/ratings/10_scan_ball_ratings_2016_Apr_25_1241.csv', '/Users/andrebeukers/Documents/fMRI/RVstudy/visser_replicate/ratings/10_scan_ball_ratings_2016_Apr_25_1432.csv', '/Users/andrebeukers/Documents/fMRI/RVstudy/visser_replicate/ratings/10_scan_ball_ratings_2016_Apr_25_1454.csv', '/Users/andrebeukers/Documents/fMRI/RVstudy/visser_replicate/ratings/10_scan_ball_ratings_2016_Apr_25_1455.csv']\n"
     ]
    }
   ],
   "source": [
    "main_dir = \"/Users/andrebeukers/Documents/fMRI/RVstudy/visser_replicate\"\n",
    "ratings_dir = opj(main_dir, \"ratings\")\n",
    "rating_fpaths = glob(opj(ratings_dir,\"*scan_ball_ratings*.csv\"))[:-2]\n",
    "print(rating_fpaths[:5])"
   ]
  },
  {
   "cell_type": "markdown",
   "metadata": {},
   "source": [
    "## parse path to rating files"
   ]
  },
  {
   "cell_type": "code",
   "execution_count": 3,
   "metadata": {
    "collapsed": false
   },
   "outputs": [
    {
     "name": "stdout",
     "output_type": "stream",
     "text": [
      "{'tstamp': '0828', 'sub': 10, 'path': '/Users/andrebeukers/Documents/fMRI/RVstudy/visser_replicate/ratings/10_scan_ball_ratings_2016_Apr_19_0828.csv'}\n"
     ]
    }
   ],
   "source": [
    "\n",
    "def parse_rating(path):\n",
    "    fname_list = os.path.split(path)[-1].split('_')\n",
    "    sub = fname_list[0]\n",
    "    tstamp = fname_list[-1].split('.')[0]\n",
    "    D = {'sub':int(sub),'tstamp':(tstamp),'path':path}\n",
    "    return D\n",
    "\n",
    "rating_fpath = rating_fpaths[0]\n",
    "print(parse_rating(rating_fpath))\n",
    "\n"
   ]
  },
  {
   "cell_type": "markdown",
   "metadata": {},
   "source": [
    "## reads single scanball file, returns sub_df"
   ]
  },
  {
   "cell_type": "code",
   "execution_count": 4,
   "metadata": {
    "collapsed": false
   },
   "outputs": [
    {
     "name": "stdout",
     "output_type": "stream",
     "text": [
      "Index(['M51', 'F3', 'M49', 'F1', 'M22', 'F6'], dtype='object', name='face')\n"
     ]
    }
   ],
   "source": [
    "def read_scanball(path):\n",
    "    # full exel file\n",
    "    scanball_df = pd.read_csv(path)\n",
    "    # first col\n",
    "    stim_name = scanball_df['face'].str.split('\\\\').str.get(-1).str.split('.').str.get(0)\n",
    "    # ratings\n",
    "    rate = scanball_df[['rating.response','rating_2.response']]\n",
    "    rate = rate.dropna(0)\n",
    "    # modify cols and index\n",
    "    rate.columns = ['trust','like']\n",
    "    rate.index = stim_name.iloc[1:]\n",
    "    return rate\n",
    "\n",
    "\n",
    "rating_fpath = rating_fpaths[0]\n",
    "sub_df = read_scanball(rating_fpath)\n",
    "\n",
    "print(sub_df.index)\n",
    "\n"
   ]
  },
  {
   "cell_type": "markdown",
   "metadata": {},
   "source": [
    "## finding CS+ stim"
   ]
  },
  {
   "cell_type": "code",
   "execution_count": 5,
   "metadata": {
    "collapsed": true
   },
   "outputs": [],
   "source": [
    "rawonsets_dir = opj(main_dir,'rawonsets')\n",
    "pain_fpaths = glob(opj(rawonsets_dir,\"*pain_final*.csv\"))"
   ]
  },
  {
   "cell_type": "code",
   "execution_count": 6,
   "metadata": {
    "collapsed": false
   },
   "outputs": [
    {
     "name": "stdout",
     "output_type": "stream",
     "text": [
      "10\n"
     ]
    }
   ],
   "source": [
    "def parse_rawonsets(path):\n",
    "    L = os.path.split(path)[-1].split('_')\n",
    "    sub = int(L[0])\n",
    "    return sub\n",
    "\n",
    "pain_fpath = pain_fpaths[0]\n",
    "print(parse_rawonsets(pain_fpath))"
   ]
  },
  {
   "cell_type": "code",
   "execution_count": 7,
   "metadata": {
    "collapsed": false,
    "scrolled": true
   },
   "outputs": [
    {
     "name": "stdout",
     "output_type": "stream",
     "text": [
      "{'CSm': array(['M51'], dtype=object), 'CSp': array(['M22', 'M49'], dtype=object)}\n"
     ]
    }
   ],
   "source": [
    "def get_subCS(path):\n",
    "    rawonsets = pd.read_csv(path)\n",
    "    \n",
    "    # CS +\n",
    "    CSplus_idx = rawonsets.loc[:,'inten'] > 0\n",
    "    CSplus_stim = rawonsets[CSplus_idx].loc[:,'face'\n",
    "        ].str.split('\\\\').str.get(-1).str.split('.').str.get(0).unique()\n",
    "    # CS - \n",
    "    CSminus_idx = rawonsets.loc[:,'inten'] == 0\n",
    "    CSminus_stim = rawonsets[CSminus_idx].loc[:,'face'\n",
    "        ].str.split('\\\\').str.get(-1).str.split('.').str.get(0).unique()\n",
    "    \n",
    "    sub_CSdict = {'CSp':CSplus_stim, 'CSm':CSminus_stim}\n",
    "    return sub_CSdict\n",
    "\n",
    "pain_fpath = pain_fpaths[0]\n",
    "sub_CSdict = get_subCS(pain_fpath)\n",
    "print(sub_CSdict)\n"
   ]
  },
  {
   "cell_type": "markdown",
   "metadata": {},
   "source": [
    "## loop, sub:CS+ dict"
   ]
  },
  {
   "cell_type": "code",
   "execution_count": 8,
   "metadata": {
    "collapsed": false
   },
   "outputs": [
    {
     "name": "stdout",
     "output_type": "stream",
     "text": [
      "{4: {'CSm': array(['M51'], dtype=object), 'CSp': array(['M49', 'M22'], dtype=object)}, 6: {'CSm': array(['M51'], dtype=object), 'CSp': array(['M22', 'M49'], dtype=object)}, 7: {'CSm': array(['M22'], dtype=object), 'CSp': array(['M49', 'M51'], dtype=object)}, 335: {'CSm': array(['M51'], dtype=object), 'CSp': array(['M22', 'M49'], dtype=object)}, 9: {'CSm': array(['M49'], dtype=object), 'CSp': array(['M22', 'M51'], dtype=object)}, 10: {'CSm': array(['M51'], dtype=object), 'CSp': array(['M22', 'M49'], dtype=object)}, 11: {'CSm': array(['M22'], dtype=object), 'CSp': array(['M51', 'M49'], dtype=object)}, 12: {'CSm': array(['M22'], dtype=object), 'CSp': array(['M51', 'M49'], dtype=object)}, 13: {'CSm': array(['M51'], dtype=object), 'CSp': array(['M22', 'M49'], dtype=object)}, 14: {'CSm': array(['M49'], dtype=object), 'CSp': array(['M51', 'M22'], dtype=object)}, 15: {'CSm': array(['M49'], dtype=object), 'CSp': array(['M22', 'M51'], dtype=object)}, 16: {'CSm': array(['M49'], dtype=object), 'CSp': array(['M51', 'M22'], dtype=object)}, 17: {'CSm': array(['M51'], dtype=object), 'CSp': array(['M22', 'M49'], dtype=object)}, 18: {'CSm': array(['M51'], dtype=object), 'CSp': array(['M49', 'M22'], dtype=object)}, 19: {'CSm': array(['M22'], dtype=object), 'CSp': array(['M51', 'M49'], dtype=object)}, 20: {'CSm': array(['M51'], dtype=object), 'CSp': array(['M22', 'M49'], dtype=object)}, 21: {'CSm': array(['M22'], dtype=object), 'CSp': array(['M49', 'M51'], dtype=object)}, 22: {'CSm': array(['M49'], dtype=object), 'CSp': array(['M51', 'M22'], dtype=object)}, 23: {'CSm': array([], dtype=object), 'CSp': array(['M49', 'M22', 'M51'], dtype=object)}, 24: {'CSm': array(['M49'], dtype=object), 'CSp': array(['M22', 'M51'], dtype=object)}, 25: {'CSm': array(['M22'], dtype=object), 'CSp': array(['M49', 'M51'], dtype=object)}, 26: {'CSm': array(['M51'], dtype=object), 'CSp': array(['M22', 'M49'], dtype=object)}, 27: {'CSm': array(['M49'], dtype=object), 'CSp': array(['M51', 'M22'], dtype=object)}, 28: {'CSm': array(['M22'], dtype=object), 'CSp': array(['M49', 'M51'], dtype=object)}, 29: {'CSm': array(['M51'], dtype=object), 'CSp': array(['M49', 'M22'], dtype=object)}, 30: {'CSm': array(['M49'], dtype=object), 'CSp': array(['M22', 'M51'], dtype=object)}, 31: {'CSm': array(['M22'], dtype=object), 'CSp': array(['M51', 'M49'], dtype=object)}, 32: {'CSm': array(['M51'], dtype=object), 'CSp': array(['M49', 'M22'], dtype=object)}, 33: {'CSm': array(['M49'], dtype=object), 'CSp': array(['M51', 'M22'], dtype=object)}, 359: {'CSm': array(['M22'], dtype=object), 'CSp': array(['M49', 'M51'], dtype=object)}, 397: {'CSm': array(['M49'], dtype=object), 'CSp': array(['M22', 'M51'], dtype=object)}, 378: {'CSm': array(['M22'], dtype=object), 'CSp': array(['M49', 'M51'], dtype=object)}}\n"
     ]
    }
   ],
   "source": [
    "group_CSdict = dict()\n",
    "CS_prob = list()\n",
    "\n",
    "for pain_fpath in pain_fpaths:\n",
    "    sub = parse_rawonsets(pain_fpath)\n",
    "    \n",
    "    try:\n",
    "        # get subCS dict\n",
    "        sub_CSdict = get_subCS(pain_fpath)\n",
    "        # load dict\n",
    "        group_CSdict[sub] = sub_CSdict\n",
    "        \n",
    "    except:\n",
    "        CS_prob.append(sub)\n",
    "        \n",
    "            \n",
    "print(group_CSdict)"
   ]
  },
  {
   "cell_type": "markdown",
   "metadata": {},
   "source": [
    "# Full behavioural dataset, multi-indexing df\n"
   ]
  },
  {
   "cell_type": "markdown",
   "metadata": {},
   "source": [
    "## initialize data frames"
   ]
  },
  {
   "cell_type": "code",
   "execution_count": 44,
   "metadata": {
    "collapsed": false
   },
   "outputs": [
    {
     "data": {
      "text/html": [
       "<div>\n",
       "<table border=\"1\" class=\"dataframe\">\n",
       "  <thead>\n",
       "    <tr style=\"text-align: right;\">\n",
       "      <th></th>\n",
       "      <th></th>\n",
       "      <th></th>\n",
       "      <th></th>\n",
       "      <th>like</th>\n",
       "      <th>trust</th>\n",
       "      <th>CSp</th>\n",
       "    </tr>\n",
       "    <tr>\n",
       "      <th>sub</th>\n",
       "      <th>tstamp</th>\n",
       "      <th>stim</th>\n",
       "      <th>CSp</th>\n",
       "      <th></th>\n",
       "      <th></th>\n",
       "      <th></th>\n",
       "    </tr>\n",
       "  </thead>\n",
       "  <tbody>\n",
       "  </tbody>\n",
       "</table>\n",
       "</div>"
      ],
      "text/plain": [
       "Empty DataFrame\n",
       "Columns: [like, trust, CSp]\n",
       "Index: []"
      ]
     },
     "execution_count": 44,
     "metadata": {},
     "output_type": "execute_result"
    }
   ],
   "source": [
    "rating_prob = list()\n",
    "\n",
    "subs = [parse_rating(rating_fpath)['sub'] \n",
    "        for rating_fpath in rating_fpaths]\n",
    "\n",
    "index = pd.MultiIndex(names=['sub','tstamp','stim','CSp'],\n",
    "            levels=[[],[],[],[]], labels=[[],[],[],[]])\n",
    "\n",
    "group_df = pd.DataFrame(index=index, \n",
    "            columns=['like','trust','CSp'])\n",
    "\n",
    "\n",
    "# group_df.loc[(1,10,'F1','1'),'CSp']=10\n",
    "group_df\n"
   ]
  },
  {
   "cell_type": "markdown",
   "metadata": {},
   "source": [
    "## loop: load group df"
   ]
  },
  {
   "cell_type": "code",
   "execution_count": 45,
   "metadata": {
    "collapsed": false,
    "scrolled": true
   },
   "outputs": [],
   "source": [
    "for rating_fpath in rating_fpaths:\n",
    "    \n",
    "    try:\n",
    "        # load data frame\n",
    "        sub_df = read_scanball(rating_fpath)\n",
    "        \n",
    "        # get subject number, time stamp and CSp_dict\n",
    "        D = parse_rating(rating_fpath)\n",
    "        sub, tstamp = D['sub'], D['tstamp']\n",
    "        sub_CSdict = group_CSdict[sub] \n",
    "        \n",
    "        # load subject dataframe into group\n",
    "        for stim in sub_df.index:\n",
    "            \n",
    "            # sorting CSp and CSm\n",
    "            if stim in sub_CSdict['CSm']: CSp = 0\n",
    "            elif stim in sub_CSdict['CSp'][0]: CSp = 1\n",
    "            elif stim in sub_CSdict['CSp'][1]: CSp = 2\n",
    "            else: CSp = 100\n",
    "            \n",
    "            # each column\n",
    "            for lt in ['like','trust']: \n",
    "                group_df.loc[(sub,tstamp,stim,CSp),lt] =\\\n",
    "                              sub_df.loc[stim][lt]\n",
    "\n",
    "            # also include CSp in cols for logical indexing\n",
    "            group_df.loc[(sub,tstamp,stim,CSp),'CSp'] = CSp\n",
    "            \n",
    "        \n",
    "                 \n",
    "    except:\n",
    "        rating_prob.append(parse_rating(rating_fpath)['sub'])\n",
    "\n",
    "# remove brush trials (female faces)\n",
    "group_df = group_df[group_df['CSp'] != 100][['like','trust']]\n",
    "\n",
    "\n",
    "\n"
   ]
  },
  {
   "cell_type": "code",
   "execution_count": 46,
   "metadata": {
    "collapsed": false
   },
   "outputs": [
    {
     "data": {
      "text/html": [
       "<div>\n",
       "<table border=\"1\" class=\"dataframe\">\n",
       "  <thead>\n",
       "    <tr style=\"text-align: right;\">\n",
       "      <th></th>\n",
       "      <th></th>\n",
       "      <th></th>\n",
       "      <th></th>\n",
       "      <th>like</th>\n",
       "      <th>trust</th>\n",
       "    </tr>\n",
       "    <tr>\n",
       "      <th>sub</th>\n",
       "      <th>tstamp</th>\n",
       "      <th>stim</th>\n",
       "      <th>CSp</th>\n",
       "      <th></th>\n",
       "      <th></th>\n",
       "    </tr>\n",
       "  </thead>\n",
       "  <tbody>\n",
       "    <tr>\n",
       "      <th rowspan=\"12\" valign=\"top\">10</th>\n",
       "      <th rowspan=\"3\" valign=\"top\">0828</th>\n",
       "      <th>M51</th>\n",
       "      <th>0</th>\n",
       "      <td>40</td>\n",
       "      <td>30</td>\n",
       "    </tr>\n",
       "    <tr>\n",
       "      <th>M49</th>\n",
       "      <th>2</th>\n",
       "      <td>50</td>\n",
       "      <td>50</td>\n",
       "    </tr>\n",
       "    <tr>\n",
       "      <th>M22</th>\n",
       "      <th>1</th>\n",
       "      <td>61</td>\n",
       "      <td>61</td>\n",
       "    </tr>\n",
       "    <tr>\n",
       "      <th rowspan=\"3\" valign=\"top\">1241</th>\n",
       "      <th>M49</th>\n",
       "      <th>2</th>\n",
       "      <td>49</td>\n",
       "      <td>53</td>\n",
       "    </tr>\n",
       "    <tr>\n",
       "      <th>M22</th>\n",
       "      <th>1</th>\n",
       "      <td>39</td>\n",
       "      <td>38</td>\n",
       "    </tr>\n",
       "    <tr>\n",
       "      <th>M51</th>\n",
       "      <th>0</th>\n",
       "      <td>40</td>\n",
       "      <td>32</td>\n",
       "    </tr>\n",
       "    <tr>\n",
       "      <th rowspan=\"3\" valign=\"top\">1432</th>\n",
       "      <th>M49</th>\n",
       "      <th>2</th>\n",
       "      <td>34</td>\n",
       "      <td>36</td>\n",
       "    </tr>\n",
       "    <tr>\n",
       "      <th>M51</th>\n",
       "      <th>0</th>\n",
       "      <td>58</td>\n",
       "      <td>47</td>\n",
       "    </tr>\n",
       "    <tr>\n",
       "      <th>M22</th>\n",
       "      <th>1</th>\n",
       "      <td>33</td>\n",
       "      <td>42</td>\n",
       "    </tr>\n",
       "    <tr>\n",
       "      <th rowspan=\"3\" valign=\"top\">1455</th>\n",
       "      <th>M22</th>\n",
       "      <th>1</th>\n",
       "      <td>36</td>\n",
       "      <td>26</td>\n",
       "    </tr>\n",
       "    <tr>\n",
       "      <th>M51</th>\n",
       "      <th>0</th>\n",
       "      <td>56</td>\n",
       "      <td>42</td>\n",
       "    </tr>\n",
       "    <tr>\n",
       "      <th>M49</th>\n",
       "      <th>2</th>\n",
       "      <td>43</td>\n",
       "      <td>37</td>\n",
       "    </tr>\n",
       "    <tr>\n",
       "      <th rowspan=\"9\" valign=\"top\">11</th>\n",
       "      <th rowspan=\"3\" valign=\"top\">0821</th>\n",
       "      <th>M51</th>\n",
       "      <th>1</th>\n",
       "      <td>66</td>\n",
       "      <td>62</td>\n",
       "    </tr>\n",
       "    <tr>\n",
       "      <th>M49</th>\n",
       "      <th>2</th>\n",
       "      <td>52</td>\n",
       "      <td>80</td>\n",
       "    </tr>\n",
       "    <tr>\n",
       "      <th>M22</th>\n",
       "      <th>0</th>\n",
       "      <td>51</td>\n",
       "      <td>36</td>\n",
       "    </tr>\n",
       "    <tr>\n",
       "      <th rowspan=\"3\" valign=\"top\">0951</th>\n",
       "      <th>M22</th>\n",
       "      <th>0</th>\n",
       "      <td>33</td>\n",
       "      <td>33</td>\n",
       "    </tr>\n",
       "    <tr>\n",
       "      <th>M51</th>\n",
       "      <th>1</th>\n",
       "      <td>67</td>\n",
       "      <td>39</td>\n",
       "    </tr>\n",
       "    <tr>\n",
       "      <th>M49</th>\n",
       "      <th>2</th>\n",
       "      <td>67</td>\n",
       "      <td>67</td>\n",
       "    </tr>\n",
       "    <tr>\n",
       "      <th rowspan=\"3\" valign=\"top\">1012</th>\n",
       "      <th>M22</th>\n",
       "      <th>0</th>\n",
       "      <td>40</td>\n",
       "      <td>32</td>\n",
       "    </tr>\n",
       "    <tr>\n",
       "      <th>M49</th>\n",
       "      <th>2</th>\n",
       "      <td>52</td>\n",
       "      <td>65</td>\n",
       "    </tr>\n",
       "    <tr>\n",
       "      <th>M51</th>\n",
       "      <th>1</th>\n",
       "      <td>61</td>\n",
       "      <td>63</td>\n",
       "    </tr>\n",
       "    <tr>\n",
       "      <th rowspan=\"9\" valign=\"top\">12</th>\n",
       "      <th rowspan=\"3\" valign=\"top\">1244</th>\n",
       "      <th>M22</th>\n",
       "      <th>0</th>\n",
       "      <td>26</td>\n",
       "      <td>35</td>\n",
       "    </tr>\n",
       "    <tr>\n",
       "      <th>M49</th>\n",
       "      <th>2</th>\n",
       "      <td>23</td>\n",
       "      <td>71</td>\n",
       "    </tr>\n",
       "    <tr>\n",
       "      <th>M51</th>\n",
       "      <th>1</th>\n",
       "      <td>34</td>\n",
       "      <td>23</td>\n",
       "    </tr>\n",
       "    <tr>\n",
       "      <th rowspan=\"3\" valign=\"top\">1428</th>\n",
       "      <th>M51</th>\n",
       "      <th>1</th>\n",
       "      <td>36</td>\n",
       "      <td>27</td>\n",
       "    </tr>\n",
       "    <tr>\n",
       "      <th>M22</th>\n",
       "      <th>0</th>\n",
       "      <td>64</td>\n",
       "      <td>62</td>\n",
       "    </tr>\n",
       "    <tr>\n",
       "      <th>M49</th>\n",
       "      <th>2</th>\n",
       "      <td>60</td>\n",
       "      <td>60</td>\n",
       "    </tr>\n",
       "    <tr>\n",
       "      <th rowspan=\"3\" valign=\"top\">1450</th>\n",
       "      <th>M22</th>\n",
       "      <th>0</th>\n",
       "      <td>57</td>\n",
       "      <td>62</td>\n",
       "    </tr>\n",
       "    <tr>\n",
       "      <th>M49</th>\n",
       "      <th>2</th>\n",
       "      <td>42</td>\n",
       "      <td>67</td>\n",
       "    </tr>\n",
       "    <tr>\n",
       "      <th>M51</th>\n",
       "      <th>1</th>\n",
       "      <td>37</td>\n",
       "      <td>34</td>\n",
       "    </tr>\n",
       "    <tr>\n",
       "      <th>...</th>\n",
       "      <th>...</th>\n",
       "      <th>...</th>\n",
       "      <th>...</th>\n",
       "      <td>...</td>\n",
       "      <td>...</td>\n",
       "    </tr>\n",
       "    <tr>\n",
       "      <th rowspan=\"6\" valign=\"top\">4</th>\n",
       "      <th rowspan=\"3\" valign=\"top\">1443</th>\n",
       "      <th>M51</th>\n",
       "      <th>0</th>\n",
       "      <td>44</td>\n",
       "      <td>45</td>\n",
       "    </tr>\n",
       "    <tr>\n",
       "      <th>M49</th>\n",
       "      <th>1</th>\n",
       "      <td>59</td>\n",
       "      <td>59</td>\n",
       "    </tr>\n",
       "    <tr>\n",
       "      <th>M22</th>\n",
       "      <th>2</th>\n",
       "      <td>40</td>\n",
       "      <td>45</td>\n",
       "    </tr>\n",
       "    <tr>\n",
       "      <th rowspan=\"3\" valign=\"top\">1506</th>\n",
       "      <th>M49</th>\n",
       "      <th>1</th>\n",
       "      <td>60</td>\n",
       "      <td>60</td>\n",
       "    </tr>\n",
       "    <tr>\n",
       "      <th>M51</th>\n",
       "      <th>0</th>\n",
       "      <td>52</td>\n",
       "      <td>52</td>\n",
       "    </tr>\n",
       "    <tr>\n",
       "      <th>M22</th>\n",
       "      <th>2</th>\n",
       "      <td>39</td>\n",
       "      <td>41</td>\n",
       "    </tr>\n",
       "    <tr>\n",
       "      <th rowspan=\"6\" valign=\"top\">6</th>\n",
       "      <th rowspan=\"3\" valign=\"top\">1007</th>\n",
       "      <th>M22</th>\n",
       "      <th>1</th>\n",
       "      <td>0</td>\n",
       "      <td>9</td>\n",
       "    </tr>\n",
       "    <tr>\n",
       "      <th>M49</th>\n",
       "      <th>2</th>\n",
       "      <td>0</td>\n",
       "      <td>0</td>\n",
       "    </tr>\n",
       "    <tr>\n",
       "      <th>M51</th>\n",
       "      <th>0</th>\n",
       "      <td>50</td>\n",
       "      <td>50</td>\n",
       "    </tr>\n",
       "    <tr>\n",
       "      <th rowspan=\"3\" valign=\"top\">1031</th>\n",
       "      <th>M51</th>\n",
       "      <th>0</th>\n",
       "      <td>41</td>\n",
       "      <td>49</td>\n",
       "    </tr>\n",
       "    <tr>\n",
       "      <th>M22</th>\n",
       "      <th>1</th>\n",
       "      <td>10</td>\n",
       "      <td>9</td>\n",
       "    </tr>\n",
       "    <tr>\n",
       "      <th>M49</th>\n",
       "      <th>2</th>\n",
       "      <td>0</td>\n",
       "      <td>0</td>\n",
       "    </tr>\n",
       "    <tr>\n",
       "      <th rowspan=\"9\" valign=\"top\">7</th>\n",
       "      <th rowspan=\"3\" valign=\"top\">0837</th>\n",
       "      <th>M22</th>\n",
       "      <th>0</th>\n",
       "      <td>41</td>\n",
       "      <td>45</td>\n",
       "    </tr>\n",
       "    <tr>\n",
       "      <th>M51</th>\n",
       "      <th>2</th>\n",
       "      <td>67</td>\n",
       "      <td>64</td>\n",
       "    </tr>\n",
       "    <tr>\n",
       "      <th>M49</th>\n",
       "      <th>1</th>\n",
       "      <td>44</td>\n",
       "      <td>37</td>\n",
       "    </tr>\n",
       "    <tr>\n",
       "      <th rowspan=\"3\" valign=\"top\">1025</th>\n",
       "      <th>M49</th>\n",
       "      <th>1</th>\n",
       "      <td>45</td>\n",
       "      <td>59</td>\n",
       "    </tr>\n",
       "    <tr>\n",
       "      <th>M22</th>\n",
       "      <th>0</th>\n",
       "      <td>40</td>\n",
       "      <td>40</td>\n",
       "    </tr>\n",
       "    <tr>\n",
       "      <th>M51</th>\n",
       "      <th>2</th>\n",
       "      <td>63</td>\n",
       "      <td>65</td>\n",
       "    </tr>\n",
       "    <tr>\n",
       "      <th rowspan=\"3\" valign=\"top\">1044</th>\n",
       "      <th>M51</th>\n",
       "      <th>2</th>\n",
       "      <td>36</td>\n",
       "      <td>40</td>\n",
       "    </tr>\n",
       "    <tr>\n",
       "      <th>M22</th>\n",
       "      <th>0</th>\n",
       "      <td>30</td>\n",
       "      <td>39</td>\n",
       "    </tr>\n",
       "    <tr>\n",
       "      <th>M49</th>\n",
       "      <th>1</th>\n",
       "      <td>36</td>\n",
       "      <td>28</td>\n",
       "    </tr>\n",
       "    <tr>\n",
       "      <th rowspan=\"9\" valign=\"top\">9</th>\n",
       "      <th rowspan=\"3\" valign=\"top\">1256</th>\n",
       "      <th>M22</th>\n",
       "      <th>1</th>\n",
       "      <td>50</td>\n",
       "      <td>50</td>\n",
       "    </tr>\n",
       "    <tr>\n",
       "      <th>M49</th>\n",
       "      <th>0</th>\n",
       "      <td>50</td>\n",
       "      <td>50</td>\n",
       "    </tr>\n",
       "    <tr>\n",
       "      <th>M51</th>\n",
       "      <th>2</th>\n",
       "      <td>50</td>\n",
       "      <td>50</td>\n",
       "    </tr>\n",
       "    <tr>\n",
       "      <th rowspan=\"3\" valign=\"top\">1451</th>\n",
       "      <th>M49</th>\n",
       "      <th>0</th>\n",
       "      <td>72</td>\n",
       "      <td>72</td>\n",
       "    </tr>\n",
       "    <tr>\n",
       "      <th>M22</th>\n",
       "      <th>1</th>\n",
       "      <td>50</td>\n",
       "      <td>50</td>\n",
       "    </tr>\n",
       "    <tr>\n",
       "      <th>M51</th>\n",
       "      <th>2</th>\n",
       "      <td>43</td>\n",
       "      <td>43</td>\n",
       "    </tr>\n",
       "    <tr>\n",
       "      <th rowspan=\"3\" valign=\"top\">1511</th>\n",
       "      <th>M49</th>\n",
       "      <th>0</th>\n",
       "      <td>64</td>\n",
       "      <td>66</td>\n",
       "    </tr>\n",
       "    <tr>\n",
       "      <th>M22</th>\n",
       "      <th>1</th>\n",
       "      <td>46</td>\n",
       "      <td>46</td>\n",
       "    </tr>\n",
       "    <tr>\n",
       "      <th>M51</th>\n",
       "      <th>2</th>\n",
       "      <td>45</td>\n",
       "      <td>45</td>\n",
       "    </tr>\n",
       "  </tbody>\n",
       "</table>\n",
       "<p>249 rows × 2 columns</p>\n",
       "</div>"
      ],
      "text/plain": [
       "                    like trust\n",
       "sub tstamp stim CSp           \n",
       "10  0828   M51  0     40    30\n",
       "           M49  2     50    50\n",
       "           M22  1     61    61\n",
       "    1241   M49  2     49    53\n",
       "           M22  1     39    38\n",
       "           M51  0     40    32\n",
       "    1432   M49  2     34    36\n",
       "           M51  0     58    47\n",
       "           M22  1     33    42\n",
       "    1455   M22  1     36    26\n",
       "           M51  0     56    42\n",
       "           M49  2     43    37\n",
       "11  0821   M51  1     66    62\n",
       "           M49  2     52    80\n",
       "           M22  0     51    36\n",
       "    0951   M22  0     33    33\n",
       "           M51  1     67    39\n",
       "           M49  2     67    67\n",
       "    1012   M22  0     40    32\n",
       "           M49  2     52    65\n",
       "           M51  1     61    63\n",
       "12  1244   M22  0     26    35\n",
       "           M49  2     23    71\n",
       "           M51  1     34    23\n",
       "    1428   M51  1     36    27\n",
       "           M22  0     64    62\n",
       "           M49  2     60    60\n",
       "    1450   M22  0     57    62\n",
       "           M49  2     42    67\n",
       "           M51  1     37    34\n",
       "...                  ...   ...\n",
       "4   1443   M51  0     44    45\n",
       "           M49  1     59    59\n",
       "           M22  2     40    45\n",
       "    1506   M49  1     60    60\n",
       "           M51  0     52    52\n",
       "           M22  2     39    41\n",
       "6   1007   M22  1      0     9\n",
       "           M49  2      0     0\n",
       "           M51  0     50    50\n",
       "    1031   M51  0     41    49\n",
       "           M22  1     10     9\n",
       "           M49  2      0     0\n",
       "7   0837   M22  0     41    45\n",
       "           M51  2     67    64\n",
       "           M49  1     44    37\n",
       "    1025   M49  1     45    59\n",
       "           M22  0     40    40\n",
       "           M51  2     63    65\n",
       "    1044   M51  2     36    40\n",
       "           M22  0     30    39\n",
       "           M49  1     36    28\n",
       "9   1256   M22  1     50    50\n",
       "           M49  0     50    50\n",
       "           M51  2     50    50\n",
       "    1451   M49  0     72    72\n",
       "           M22  1     50    50\n",
       "           M51  2     43    43\n",
       "    1511   M49  0     64    66\n",
       "           M22  1     46    46\n",
       "           M51  2     45    45\n",
       "\n",
       "[249 rows x 2 columns]"
      ]
     },
     "execution_count": 46,
     "metadata": {},
     "output_type": "execute_result"
    }
   ],
   "source": [
    "group_df"
   ]
  },
  {
   "cell_type": "markdown",
   "metadata": {},
   "source": [
    "# Plotting"
   ]
  },
  {
   "cell_type": "code",
   "execution_count": 12,
   "metadata": {
    "collapsed": true
   },
   "outputs": [],
   "source": [
    "import matplotlib.pyplot as plt\n",
    "%matplotlib inline"
   ]
  },
  {
   "cell_type": "markdown",
   "metadata": {},
   "source": [
    "### Need tstamp on the x-axis, like on the y-axis, (different lines for cm,cp1,cp2 and different plots for each sub)"
   ]
  },
  {
   "cell_type": "code",
   "execution_count": 124,
   "metadata": {
    "collapsed": false
   },
   "outputs": [
    {
     "name": "stdout",
     "output_type": "stream",
     "text": [
      "[1 2 3 4]\n",
      "tstamp  stim\n",
      "0828    M49     50\n",
      "1241    M49     49\n",
      "1432    M49     34\n",
      "1455    M49     43\n",
      "Name: like, dtype: object\n"
     ]
    },
    {
     "data": {
      "text/plain": [
       "tstamp  stim\n",
       "0828    M22     61\n",
       "1241    M22     39\n",
       "1432    M22     33\n",
       "1455    M22     36\n",
       "Name: like, dtype: object"
      ]
     },
     "execution_count": 124,
     "metadata": {},
     "output_type": "execute_result"
    },
    {
     "data": {
      "image/png": "[encoded data removed]",
      "text/plain": [
       "<matplotlib.figure.Figure at 0x12013ef60>"
      ]
     },
     "metadata": {},
     "output_type": "display_data"
    }
   ],
   "source": [
    "sub_num = 10\n",
    "\n",
    "fig, axis = plt.subplots()\n",
    "for CSp in [0,1,2]:\n",
    "    like = group_df.xs((sub_num,CSp),level=('sub','CSp'))['like']\n",
    "    plt.plot(np.arange(len(like)+1)[1:],like)\n",
    "    \n",
    "\n",
    "# plt.plot?\n",
    "x = np.arange(len(like)+1)[1:]\n",
    "print(x)\n",
    "print(like)\n",
    "\n",
    "plt.legend(['CSm','CSp1','CSp2'],loc='upper left')\n",
    "\n",
    "group_df.xs((sub_num,1),level=('sub','CSp'))['like']\n"
   ]
  },
  {
   "cell_type": "code",
   "execution_count": null,
   "metadata": {
    "collapsed": true
   },
   "outputs": [],
   "source": []
  }
 ],
 "metadata": {
  "anaconda-cloud": {},
  "kernelspec": {
   "display_name": "Python [conda env:py3]",
   "language": "python",
   "name": "conda-env-py3-py"
  },
  "language_info": {
   "codemirror_mode": {
    "name": "ipython",
    "version": 3
   },
   "file_extension": ".py",
   "mimetype": "text/x-python",
   "name": "python",
   "nbconvert_exporter": "python",
   "pygments_lexer": "ipython3",
   "version": "3.5.2"
  }
 },
 "nbformat": 4,
 "nbformat_minor": 1
}

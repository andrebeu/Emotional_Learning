{
 "cells": [
  {
   "cell_type": "code",
   "execution_count": 1,
   "metadata": {
    "collapsed": true
   },
   "outputs": [],
   "source": [
    "# main_dir = \"/Users/andrebeukers/Documents/fMRI/RVstudy/fromServ/Nov24_anatomicaFFA\"\n",
    "# main_dir = \"/Users/andrebeukers/Documents/fMRI/RVstudy/fromServ/Nov2_RSA-FFApeakvox_mask\"\n",
    "# main_dir = \"/Users/andrebeukers/Documents/fMRI/RVstudy/fromServ/Nov24_anatomical_visual\"\n",
    "# main_dir = \"/Users/andrebeukers/Documents/fMRI/RVstudy/fromServ/Nov27_anatomicalFFA2\"\n",
    "main_dir = \"/Users/andrebeukers/Documents/fMRI/RVstudy/fromServ/Nov29_frontalROIs\"\n",
    "mask_dir = \"/Users/andrebeukers/Documents/fMRI/RVstudy/visser_replicate/BIDSdataset/masks\""
   ]
  },
  {
   "cell_type": "code",
   "execution_count": 2,
   "metadata": {
    "collapsed": false
   },
   "outputs": [],
   "source": [
    "# system\n",
    "import os\n",
    "from os.path import join as opj\n",
    "from glob import glob\n",
    "\n",
    "# data\n",
    "import mvpa2.suite as mvpa\n",
    "import numpy as np\n",
    "import pandas as pd\n",
    "\n",
    "# plots\n",
    "import matplotlib.pyplot as plt\n",
    "import matplotlib as mpl\n",
    "%matplotlib inline"
   ]
  },
  {
   "cell_type": "code",
   "execution_count": 3,
   "metadata": {
    "collapsed": true
   },
   "outputs": [],
   "source": [
    "task = 'pain'\n",
    "roi = 'left_supfront'\n",
    "meanCSp = 0"
   ]
  },
  {
   "cell_type": "markdown",
   "metadata": {},
   "source": [
    "## Dirs"
   ]
  },
  {
   "cell_type": "code",
   "execution_count": 4,
   "metadata": {
    "collapsed": false
   },
   "outputs": [],
   "source": [
    "GLMresults_dir = opj(main_dir, roi, 'GLM' )\n",
    "RSAresults_dir = opj(main_dir, roi, 'RSA')\n",
    "\n",
    "if not os.path.isdir(RSAresults_dir):\n",
    "    os.mkdir(RSAresults_dir)"
   ]
  },
  {
   "cell_type": "code",
   "execution_count": 5,
   "metadata": {
    "collapsed": false
   },
   "outputs": [],
   "source": [
    "# list of GLM result files\n",
    "GLMresults_list = glob(opj(GLMresults_dir,\"*%s*nifti*\" % roi))\n",
    "\n",
    "# mask file\n",
    "mask_nii = opj(mask_dir, \"%sROI.nii\" % roi)\n",
    "\n",
    "# behavioural ratin\n",
    "ratings = pd.read_csv(\"/Users/andrebeukers/Documents/fMRI/RVstudy/visser_replicate/BIDSdataset/mana_rate.csv\")"
   ]
  },
  {
   "cell_type": "markdown",
   "metadata": {},
   "source": [
    "## Sample Attributes"
   ]
  },
  {
   "cell_type": "code",
   "execution_count": 6,
   "metadata": {
    "collapsed": true
   },
   "outputs": [],
   "source": [
    "t = lambda x,y: np.tile(x,y)\n",
    "tn = lambda x: np.arange(x)+1"
   ]
  },
  {
   "cell_type": "code",
   "execution_count": 7,
   "metadata": {
    "collapsed": false,
    "scrolled": true
   },
   "outputs": [],
   "source": [
    "roi_list = t(roi, 51)\n",
    "task_list = t(task, 51)\n",
    "\n",
    "# assume order of stim_times_IM in GLM file unchanged\n",
    "trialtype_list = np.concatenate(\n",
    "    ( t('tp1',7), t('tp2',7), t('tm',7), t('cp',12), t('cm',6), t('us',12) ))\n",
    "\n",
    "trialnum_list = np.concatenate((np.arange(7)+1,np.arange(7)+1,np.arange(7)+1,np.arange(30)))\n",
    "stim_list = np.concatenate((t('CS+1',7),t('CS+2',7),t('CS-',7),t('0',30)))\n",
    "CS_list = np.concatenate((t('CS+',14),t('CS-',7),t('0',30)))\n",
    "trial_list = np.char.array(stim_list) + ' ' + np.char.array(trialnum_list)"
   ]
  },
  {
   "cell_type": "markdown",
   "metadata": {},
   "source": [
    "# RSA loop"
   ]
  },
  {
   "cell_type": "code",
   "execution_count": 8,
   "metadata": {
    "collapsed": false
   },
   "outputs": [],
   "source": [
    "# prepare DSM \n",
    "dsm_measure = mvpa.measures.rsa.PDist(square=True)\n",
    "\n",
    "# loop containers\n",
    "ds_list = []; dsm_list = []"
   ]
  },
  {
   "cell_type": "code",
   "execution_count": 9,
   "metadata": {
    "collapsed": false
   },
   "outputs": [
    {
     "name": "stdout",
     "output_type": "stream",
     "text": [
      "RSAing subj: 007\n",
      "WARNING: dataset with 5th dimension found but 4th is empty (AFNI  NIFTI conversion syndrome) - squeezing data to 4D\n",
      " * Please note: warnings are printed only once, but underlying problem might occur many times *\n",
      "WARNING: Detected incorrect (nan) scl_ fields. Resetting to scl_slope=1.0 and scl_inter=0.0\n",
      "RSAing subj: 009\n",
      "RSAing subj: 012\n",
      "RSAing subj: 013\n",
      "RSAing subj: 014\n",
      "RSAing subj: 015\n",
      "RSAing subj: 016\n",
      "RSAing subj: 017\n",
      "RSAing subj: 018\n",
      "RSAing subj: 021\n",
      "RSAing subj: 022\n",
      "RSAing subj: 024\n",
      "RSAing subj: 025\n",
      "RSAing subj: 026\n",
      "RSAing subj: 027\n",
      "RSAing subj: 028\n",
      "RSAing subj: 029\n",
      "RSAing subj: 030\n",
      "RSAing subj: 033\n",
      "RSAing subj: 359\n"
     ]
    }
   ],
   "source": [
    "# loop beta volumes (GLM results), load fmri_dataset\n",
    "for fpath in GLMresults_list:\n",
    "\n",
    "    # file fpath and subject number\n",
    "    sub_num = fpath.split('/')[-1].split('_')[0].split('-')[-1]\n",
    "    print \"RSAing subj: \" + sub_num\n",
    "\n",
    "    # conditioner score \n",
    "    condit = ratings[ratings['Subject'] == int(sub_num)]['Conditioner']\n",
    "    \n",
    "    # load beta volumes of single subject\n",
    "    sub_ds = mvpa.fmri_dataset(fpath, mask=mask_nii)\n",
    "#     assert sub_ds.shape == (51, 631)\n",
    "    \n",
    "    # sample attributes\n",
    "    sub_ds.sa['sub_num'] = \\\n",
    "        (np.ones(sub_ds.nsamples)*int(sub_num)).astype(int)\n",
    "    sub_ds.sa['trialtype'] = trialtype_list\n",
    "    sub_ds.sa['trialnum'] = trialnum_list\n",
    "    sub_ds.sa['roi'] = roi_list\n",
    "    sub_ds.sa['task'] = task_list\n",
    "    sub_ds.sa['stim'] = stim_list\n",
    "    sub_ds.sa['trial'] = trial_list\n",
    "    sub_ds.sa['condit'] = np.tile(condit,51)\n",
    "    sub_ds.sa['CS'] = CS_list\n",
    "\n",
    "    # get target trials only\n",
    "    idx_tp1 = (sub_ds.sa.trialtype == 'tp1')\n",
    "    idx_tp2 = (sub_ds.sa.trialtype == 'tp2')\n",
    "    idx_tm = (sub_ds.sa.trialtype == 'tm')\n",
    "    sub_ds = sub_ds[idx_tp1 | idx_tp2 | idx_tm]\n",
    "#     assert sub_ds.shape == (21,631)\n",
    "\n",
    "    # RDM (0,2) -> RSM (-1,1)\n",
    "    sub_dsm = dsm_measure(sub_ds)\n",
    "    sub_dsm.samples = sub_dsm.samples * (-1) + 1\n",
    "    \n",
    "    # fa\n",
    "    sub_dsm.fa['trial'] = sub_dsm.sa.trial[:]\n",
    "\n",
    "    # list of DSMs and DSs of each subject\n",
    "    prob_subs = [4, 6, 19, 20, 335]\n",
    "    if np.unique(sub_ds.sa.sub_num) not in prob_subs:\n",
    "        dsm_list.append(sub_dsm)\n",
    "        ds_list.append(sub_ds)\n"
   ]
  },
  {
   "cell_type": "markdown",
   "metadata": {},
   "source": [
    "#### output: dsm_list"
   ]
  },
  {
   "cell_type": "markdown",
   "metadata": {},
   "source": [
    "# Group analysis"
   ]
  },
  {
   "cell_type": "code",
   "execution_count": 10,
   "metadata": {
    "collapsed": false
   },
   "outputs": [],
   "source": [
    "full_dsm_stack = mvpa.vstack(dsm_list, a=0) "
   ]
  },
  {
   "cell_type": "markdown",
   "metadata": {},
   "source": [
    "### r-to-z"
   ]
  },
  {
   "cell_type": "code",
   "execution_count": 11,
   "metadata": {
    "collapsed": false
   },
   "outputs": [
    {
     "name": "stderr",
     "output_type": "stream",
     "text": [
      "/Users/andrebeukers/anaconda/lib/python2.7/site-packages/ipykernel/__main__.py:7: RuntimeWarning: divide by zero encountered in arctanh\n"
     ]
    }
   ],
   "source": [
    "def fischer(ds_stack):\n",
    "    \n",
    "    # initialize dataset\n",
    "    full_zstack = ds_stack.copy(deep=True)\n",
    "    \n",
    "    # apply arctanh\n",
    "    full_zstack.samples = \\\n",
    "        np.arctanh(ds_stack.samples)\n",
    "    \n",
    "    return full_zstack\n",
    "\n",
    "full_dsm_zstack = fischer(full_dsm_stack)\n"
   ]
  },
  {
   "cell_type": "markdown",
   "metadata": {},
   "source": [
    "### split conditioners vs non"
   ]
  },
  {
   "cell_type": "code",
   "execution_count": 12,
   "metadata": {
    "collapsed": false
   },
   "outputs": [],
   "source": [
    "# conditioners \n",
    "condit_idx = full_dsm_zstack.sa.condit == 1\n",
    "condit_dsm_zstack = full_dsm_zstack[condit_idx]\n",
    "\n",
    "# non\n",
    "noncondit_idx = full_dsm_zstack.sa.condit == 0\n",
    "noncondit_dsm_zstack = full_dsm_zstack[noncondit_idx]"
   ]
  },
  {
   "cell_type": "markdown",
   "metadata": {},
   "source": [
    "### average dsm"
   ]
  },
  {
   "cell_type": "code",
   "execution_count": 13,
   "metadata": {
    "collapsed": false
   },
   "outputs": [],
   "source": [
    "# measure\n",
    "mgs = mvpa.mean_group_sample([\"trial\"], order='occurrence')\n",
    "\n",
    "# avgRSM group, condit and non\n",
    "dsm_c = mgs(condit_dsm_zstack)\n",
    "dsm_n = mgs(noncondit_dsm_zstack)\n",
    "dsm_group = mgs(full_dsm_zstack)\n",
    "\n",
    "# for figure labeling\n",
    "dsm_c.a['title'] = \"conditioners\"\n",
    "dsm_n.a['title'] = \"non-conditioners\"\n",
    "dsm_group.a['title'] = \"group\""
   ]
  },
  {
   "cell_type": "markdown",
   "metadata": {},
   "source": [
    "### z-to-r"
   ]
  },
  {
   "cell_type": "code",
   "execution_count": 14,
   "metadata": {
    "collapsed": false
   },
   "outputs": [
    {
     "name": "stdout",
     "output_type": "stream",
     "text": [
      "-0.288537954538\n",
      "1.0\n",
      "-0.105099730948\n",
      "1.0\n",
      "-0.0785793634858\n",
      "1.0\n"
     ]
    }
   ],
   "source": [
    "dsm_c.samples = np.tanh(dsm_c.samples)\n",
    "dsm_n.samples = np.tanh(dsm_n.samples)\n",
    "dsm_group.samples = np.tanh(dsm_group.samples)\n",
    "\n",
    "# note all > 0.1\n",
    "for dsm in [dsm_c,dsm_n,dsm_group]:\n",
    "    print dsm.samples.min()\n",
    "    print dsm.samples.max()\n",
    "    "
   ]
  },
  {
   "cell_type": "markdown",
   "metadata": {},
   "source": [
    "# Matrix Plots"
   ]
  },
  {
   "cell_type": "code",
   "execution_count": 15,
   "metadata": {
    "collapsed": false
   },
   "outputs": [],
   "source": [
    "def plot_dsm(dsm, title = 'Corr distance'):\n",
    "    \n",
    "    # figure\n",
    "    fig = plt.figure(figsize=(10,8))\n",
    "    plt.imshow(dsm, interpolation='nearest')\n",
    "    \n",
    "    # axes\n",
    "    plt.xticks(np.arange(len(dsm))+.5, dsm.sa.trial, rotation=-45)\n",
    "    plt.yticks(range(len(dsm)), dsm.fa.trial)\n",
    "    plt.title(title)\n",
    "    plt.clim(dsm.samples.min(), dsm.samples.max())\n",
    "    plt.colorbar()\n",
    "\n",
    "    # black square\n",
    "    ax = fig.add_subplot(111)\n",
    "    for xy in [-.5,6.5,13.5]:\n",
    "        ax.add_patch(mpl.patches.Rectangle((xy,xy),\n",
    "            7,7,linewidth=3,color='black',fill=False))"
   ]
  },
  {
   "cell_type": "markdown",
   "metadata": {},
   "source": [
    "Note features: CS+1 07 "
   ]
  },
  {
   "cell_type": "markdown",
   "metadata": {},
   "source": [
    "### Group RSM"
   ]
  },
  {
   "cell_type": "code",
   "execution_count": null,
   "metadata": {
    "collapsed": false
   },
   "outputs": [],
   "source": [
    "from matplotlib.backends.backend_pdf import PdfPages"
   ]
  },
  {
   "cell_type": "code",
   "execution_count": null,
   "metadata": {
    "collapsed": false
   },
   "outputs": [],
   "source": [
    "# initialize figure saving\n",
    "pp = PdfPages(opj(RSAresults_dir,'groupRSM_%s.pdf'%roi))\n",
    "\n",
    "for dsm in [dsm_group, dsm_c, dsm_n]:\n",
    "      \n",
    "    # plot\n",
    "    plot_dsm(dsm, title=dsm.a.title)\n",
    "    pp.savefig()\n",
    "    \n",
    "pp.close()"
   ]
  },
  {
   "cell_type": "markdown",
   "metadata": {},
   "source": [
    "### Subjects RSMs"
   ]
  },
  {
   "cell_type": "code",
   "execution_count": null,
   "metadata": {
    "collapsed": false
   },
   "outputs": [],
   "source": [
    "pp = PdfPages(opj(RSAresults_dir,'subjectRSM_%s.pdf'%roi))\n",
    "\n",
    "for sub_dsm in dsm_list:\n",
    "    \n",
    "    plot_dsm(sub_dsm, title=np.unique(sub_dsm.sa.sub_num)[0])\n",
    "    pp.savefig()\n",
    "    \n",
    "pp.close()\n"
   ]
  },
  {
   "cell_type": "markdown",
   "metadata": {},
   "source": [
    "## Distributions"
   ]
  },
  {
   "cell_type": "code",
   "execution_count": null,
   "metadata": {
    "collapsed": false
   },
   "outputs": [],
   "source": [
    "ds30 = np.transpose(ds_list[-3].samples) # sub30"
   ]
  },
  {
   "cell_type": "code",
   "execution_count": null,
   "metadata": {
    "collapsed": false
   },
   "outputs": [],
   "source": [
    "t = 10\n",
    "\n",
    "idx = ds30[:,t] != 0\n",
    "samp = ds30[:,t][idx]\n",
    "\n",
    "plt.hist(samp, bins=40)\n",
    "plt.title(\"trial No. %i\" % t)"
   ]
  },
  {
   "cell_type": "code",
   "execution_count": null,
   "metadata": {
    "collapsed": false
   },
   "outputs": [],
   "source": [
    "t = 7\n",
    "\n",
    "idx = ds30[:,t] != 0\n",
    "samp = ds30[:,t][idx]\n",
    "\n",
    "plt.hist(samp, bins=40)\n",
    "plt.title(\"trial No. %i\" % t)"
   ]
  },
  {
   "cell_type": "markdown",
   "metadata": {
    "collapsed": true
   },
   "source": [
    "# Line plots"
   ]
  },
  {
   "cell_type": "code",
   "execution_count": null,
   "metadata": {
    "collapsed": false
   },
   "outputs": [],
   "source": [
    "dsm = dsm_list[0]\n",
    "\n",
    "\n",
    "def get_diag(dsm):\n",
    "    \n",
    "    # off diagonal indices\n",
    "    col_idx = np.arange(6) \n",
    "    row_idx = np.arange(6) + 1\n",
    "\n",
    "    diag = {}\n",
    "    for s in ['CS+1','CS+2','CS-']:\n",
    "\n",
    "        # minor matrix with stim s only\n",
    "        stim_idx = dsm.sa.stim == s\n",
    "        stim_dsm = dsm[stim_idx,stim_idx]\n",
    "\n",
    "        # off diag entries for s\n",
    "        stim_diag = stim_dsm.samples[row_idx,col_idx]    \n",
    "        diag[s] = stim_diag\n",
    "\n",
    "    return diag\n",
    "\n",
    "    \n",
    "def plot_line(dsm, title = \"trial-by-trial change\"):\n",
    "    plt.figure()\n",
    "    \n",
    "    # get diagonal entries\n",
    "    diag_dict = get_diag(dsm)\n",
    "    \n",
    "    # plot CS+1 CS+2 CS-\n",
    "    for stim, diag in diag_dict.iteritems():\n",
    "        plt.plot(diag, label=stim)\n",
    "        plt.title(title)\n",
    "        plt.legend()\n",
    "    \n",
    "    # label x axis\n",
    "    xlab = [\"%i - %i\" % (i, i+1) for i in range(8)[1:]]\n",
    "    plt.xticks(np.arange(6), xlab, rotation = -45)\n",
    "    "
   ]
  },
  {
   "cell_type": "markdown",
   "metadata": {},
   "source": [
    "## group line plots"
   ]
  },
  {
   "cell_type": "code",
   "execution_count": null,
   "metadata": {
    "collapsed": false
   },
   "outputs": [],
   "source": [
    "pp = PdfPages(opj(RSAresults_dir,'group_lineplt.pdf'))\n",
    "\n",
    "for dsm in [dsm_group, dsm_c, dsm_n]:\n",
    "    \n",
    "    plot_line(dsm, title=\"%s %s\" % (dsm.a.title,roi))\n",
    "    pp.savefig()\n",
    "    \n",
    "    \n",
    "pp.close()"
   ]
  },
  {
   "cell_type": "markdown",
   "metadata": {},
   "source": [
    "## subject line plots"
   ]
  },
  {
   "cell_type": "code",
   "execution_count": null,
   "metadata": {
    "collapsed": false
   },
   "outputs": [],
   "source": [
    "pp = PdfPages(opj(RSAresults_dir,'subject_lineplt.pdf'))\n",
    "\n",
    "for sub_dsm in dsm_list:\n",
    "    sub_num = np.unique(sub_dsm.sa.sub_num)[0]\n",
    "    plot_line(sub_dsm, title=\"%i %s\"% (sub_num,roi))\n",
    "    pp.savefig()\n",
    "    \n",
    "    \n",
    "pp.close()"
   ]
  },
  {
   "cell_type": "code",
   "execution_count": null,
   "metadata": {
    "collapsed": true
   },
   "outputs": [],
   "source": []
  }
 ],
 "metadata": {
  "anaconda-cloud": {},
  "kernelspec": {
   "display_name": "Python [conda root]",
   "language": "python",
   "name": "conda-root-py"
  },
  "language_info": {
   "codemirror_mode": {
    "name": "ipython",
    "version": 2
   },
   "file_extension": ".py",
   "mimetype": "text/x-python",
   "name": "python",
   "nbconvert_exporter": "python",
   "pygments_lexer": "ipython2",
   "version": "2.7.12"
  }
 },
 "nbformat": 4,
 "nbformat_minor": 1
}

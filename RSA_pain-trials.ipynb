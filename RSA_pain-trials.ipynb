{
 "cells": [
  {
   "cell_type": "code",
   "execution_count": 7,
   "metadata": {
    "collapsed": true
   },
   "outputs": [],
   "source": [
    "main_dir = \"/Users/andrebeukers/Documents/fMRI/RVstudy/fromServ/Nov2_newFFA\""
   ]
  },
  {
   "cell_type": "code",
   "execution_count": 60,
   "metadata": {
    "collapsed": false
   },
   "outputs": [],
   "source": [
    "import os\n",
    "from os.path import join as opj\n",
    "from glob import glob\n",
    "import mvpa2.suite as mvpa\n",
    "import numpy as np\n",
    "import pandas as pd\n",
    "import plots_RV"
   ]
  },
  {
   "cell_type": "code",
   "execution_count": 77,
   "metadata": {
    "collapsed": true
   },
   "outputs": [],
   "source": [
    "task = 'pain'\n",
    "roi = 'lFFA'\n",
    "meanCSp = 0"
   ]
  },
  {
   "cell_type": "markdown",
   "metadata": {},
   "source": [
    "sample file: sub-007_TASK-pain_ROI-lFFA_GLMresults-nifti.nii.gz"
   ]
  },
  {
   "cell_type": "markdown",
   "metadata": {},
   "source": [
    "# Dirs"
   ]
  },
  {
   "cell_type": "code",
   "execution_count": 62,
   "metadata": {
    "collapsed": false
   },
   "outputs": [],
   "source": [
    "GLMresults_dir = opj(main_dir, '%s_GLM' % task)\n",
    "RSAresults_dir = opj(main_dir, '%s_RSA' % task)\n",
    "\n",
    "if not os.path.isdir(RSAresults_dir):\n",
    "    os.mkdir(RSAresults_dir)"
   ]
  },
  {
   "cell_type": "code",
   "execution_count": 63,
   "metadata": {
    "collapsed": false
   },
   "outputs": [],
   "source": [
    "ratings = pd.read_csv(opj(main_dir,\"mana_rate.csv\"))\n"
   ]
  },
  {
   "cell_type": "markdown",
   "metadata": {},
   "source": [
    "# Sample Attributes"
   ]
  },
  {
   "cell_type": "code",
   "execution_count": 64,
   "metadata": {
    "collapsed": true
   },
   "outputs": [],
   "source": [
    "t = lambda x,y: np.tile(x,y)\n",
    "tn = lambda x: np.arange(x)+1"
   ]
  },
  {
   "cell_type": "code",
   "execution_count": 65,
   "metadata": {
    "collapsed": false,
    "scrolled": true
   },
   "outputs": [],
   "source": [
    "roi_list = t(roi, 51)\n",
    "task_list = t(task, 51)\n",
    "\n",
    "# assume order of stim_times_IM in GLM file unchanged\n",
    "trialtype_list = np.concatenate(\n",
    "    ( t('tp',14), t('tm',7), t('cp',12), t('cm',6), t('us',12) ))\n",
    "\n",
    "trialnum_list = [1,1,2,2,3,3,4,4,5,5,6,6,7,7]\n",
    "trialnum_list.extend(np.arange(7) + 1)\n",
    "trialnum_list.extend(range(30))"
   ]
  },
  {
   "cell_type": "code",
   "execution_count": 66,
   "metadata": {
    "collapsed": true
   },
   "outputs": [],
   "source": [
    "# initialize (populate in loop)\n",
    "trial_list = np.chararray(len(trialtype_list), itemsize = 15)\n",
    "stim_list = np.chararray(len(trialtype_list), itemsize = 15)\n",
    "CS_list = np.chararray(len(trialtype_list), itemsize = 15)\n",
    "CSone_idx = 0; CStwo_idx = 0;"
   ]
  },
  {
   "cell_type": "code",
   "execution_count": 67,
   "metadata": {
    "collapsed": false
   },
   "outputs": [],
   "source": [
    "for i in range(len(trial_list)):\n",
    "    if (i < 14) & (i%2 == 0):\n",
    "        trial_list[i] = 'CS+1 %.2i' % trialnum_list[i]\n",
    "        stim_list[i] = 'CS+1'\n",
    "        CS_list[i] = 'CS+'\n",
    "    elif (i < 14) & (i%2 == 1):\n",
    "        CStwo_idx += 1\n",
    "        trial_list[i] = 'CS+2 %.2i' % trialnum_list[i]\n",
    "        stim_list[i] = 'CS+2'\n",
    "        CS_list[i] = 'CS+'\n",
    "    elif i < 14+7: \n",
    "        trial_list[i] = 'CS- %.2i' % trialnum_list[i]\n",
    "        stim_list[i] = 'CS-'\n",
    "        CS_list[i] = 'CS-'\n",
    "    else:\n",
    "        break"
   ]
  },
  {
   "cell_type": "markdown",
   "metadata": {},
   "source": [
    "# RSA loop"
   ]
  },
  {
   "cell_type": "code",
   "execution_count": 68,
   "metadata": {
    "collapsed": false
   },
   "outputs": [],
   "source": [
    "# prepare DSM \n",
    "dsm_measure = mvpa.measures.rsa.PDist(square=True)\n",
    "\n",
    "# loop containers\n",
    "ds_list = []; dsm_list = []\n",
    "\n",
    "# loop beta volumes (GLM results), load fmri_dataset\n",
    "GLMresults_list = glob(opj(GLMresults_dir,\"*%s*nifti*\" % roi))"
   ]
  },
  {
   "cell_type": "code",
   "execution_count": 134,
   "metadata": {
    "collapsed": false
   },
   "outputs": [
    {
     "name": "stdout",
     "output_type": "stream",
     "text": [
      "RSAing subj: 007\n"
     ]
    }
   ],
   "source": [
    "for fpath in GLMresults_list:\n",
    "\n",
    "    # file fpath and subject number\n",
    "    sub_num = fpath.split('/')[-1].split('_')[0].split('-')[-1]\n",
    "    print \"RSAing subj: \" + sub_num\n",
    "\n",
    "    # conditioner score \n",
    "    condit = ratings[ratings['Subject'] == int(sub_num)]['Conditioner']\n",
    "    \n",
    "    # load beta volumes of single subject\n",
    "    sub_ds = mvpa.fmri_dataset(fpath)\n",
    "    assert sub_ds.shape == (51, 141120)\n",
    "    \n",
    "    # sample attributes\n",
    "    sub_ds.sa['sub_num'] = \\\n",
    "        (np.ones(sub_ds.nsamples)*int(sub_num)).astype(int)\n",
    "    sub_ds.sa['trialtype'] = trialtype_list\n",
    "    sub_ds.sa['trialnum'] = trialnum_list\n",
    "    sub_ds.sa['roi'] = roi_list\n",
    "    sub_ds.sa['task'] = task_list\n",
    "    sub_ds.sa['stim'] = stim_list\n",
    "    sub_ds.sa['trial'] = trial_list\n",
    "    sub_ds.sa['condit'] = np.tile(condit,51)\n",
    "    sub_ds.sa['CS'] = CS_list\n",
    "\n",
    "    # get target trials only\n",
    "    idx_tp = (sub_ds.sa.trialtype == 'tp')\n",
    "    idx_tm = (sub_ds.sa.trialtype == 'tm')\n",
    "    sub_ds = sub_ds[idx_tp | idx_tm]\n",
    "    assert sub_ds.shape == (21, 141120)\n",
    "    # assert False\n",
    "    \n",
    "    # grouping CS+1 CS+2 CS-\n",
    "    t = range(0,13,2)\n",
    "    t.extend(range(1,14,2))\n",
    "    t.extend(range(14,21))\n",
    "    temp = []\n",
    "    for i in t:\n",
    "        temp.extend(sub_ds[i,:])\n",
    "    sub_ds = mvpa.vstack(temp,a=0)\n",
    "    \n",
    "    # avg(CS+1,CS+2) beta volumes\n",
    "    if meanCSp:\n",
    "        ds_plus = CSmean(sub_ds[sub_ds.sa.CS == 'CS+'])\n",
    "        ds_minus = sub_ds[sub_ds.sa.stim == 'CS-']\n",
    "        sub_ds = mvpa.vstack([ds_plus,ds_minus])\n",
    "        sub_ds.sa.stim[sub_ds.sa.stim == 'CS+1+CS+2'] = 'CS+'\n",
    "    break\n",
    "    # RDM -> RSM\n",
    "    sub_dsm = dsm_measure(sub_ds)\n",
    "    sub_dsm.samples = sub_dsm.samples * (-1) + 1\n",
    "    sub_dsm.fa['trial'] = sub_dsm.sa.trial[:]\n",
    "    \n",
    "    # fisher transform\n",
    "#     sub_dsm.samples = np.arctanh(sub_dsm.samples)\n",
    "\n",
    "    # list of DSMs and DSs of each subject\n",
    "    if np.unique(sub_ds.sa.sub_num) not in [4, 6, 19, 20, 335]:\n",
    "        dsm_list.append(sub_dsm)\n",
    "        ds_list.append(sub_ds)\n"
   ]
  },
  {
   "cell_type": "code",
   "execution_count": 135,
   "metadata": {
    "collapsed": false
   },
   "outputs": [
    {
     "name": "stderr",
     "output_type": "stream",
     "text": [
      "/Users/andrebeukers/anaconda/lib/python2.7/site-packages/ipykernel/__main__.py:1: RuntimeWarning: divide by zero encountered in arctanh\n",
      "  if __name__ == '__main__':\n"
     ]
    },
    {
     "data": {
      "text/plain": [
       "array([[        inf,  0.41496645, -0.26505324,  0.40440925,  0.50353789,\n",
       "         0.33118577,  0.23797968,  0.27051965, -0.3359912 ,  0.31723591,\n",
       "         0.43494852, -0.23299138,  0.32178968, -0.53727368,  0.22334827,\n",
       "        -0.26572542, -0.08358656, -0.2992533 ,  0.58204694,  0.13876208,\n",
       "        -0.7597486 ],\n",
       "       [ 0.41496645,         inf, -1.07121233,  0.81372078,  0.72599209,\n",
       "         1.41177585,  1.55048716,  0.84916911,  0.74913508,  1.23511681,\n",
       "         0.12905536,  0.2247375 ,  1.42760685, -0.49364264,  1.58085633,\n",
       "         0.60707273,  0.25093505,  0.78511727,  1.60574767,  1.45793896,\n",
       "        -1.0555235 ],\n",
       "       [-0.26505324, -1.07121233,         inf, -0.63563957, -0.49601309,\n",
       "        -0.84987023, -0.62470699, -0.43446814, -0.36040999, -0.57391505,\n",
       "         0.16086419,  0.08322229, -0.73384796,  0.57851488, -0.75801801,\n",
       "        -0.25987172,  0.18063579, -0.46363853, -1.16226458, -0.64842344,\n",
       "         0.76516627],\n",
       "       [ 0.40440925,  0.81372078, -0.63563957,         inf,  1.06156995,\n",
       "         0.96227383,  0.62943249,  0.64245878,  0.38462287,  0.87334989,\n",
       "         0.44254457,  0.16492451,  0.66289722, -0.11390903,  0.66720014,\n",
       "         0.46329145,  0.23347359,  0.27183978,  1.11286756,  0.5634436 ,\n",
       "        -0.50501535],\n",
       "       [ 0.50353789,  0.72599209, -0.49601309,  1.06156995,         inf,\n",
       "         0.91702047,  0.67375528,  0.96326859,  0.15794484,  0.99252041,\n",
       "         0.79035976,  0.25252495,  0.8120823 , -0.09287846,  0.65613731,\n",
       "         0.37206718,  0.13168097,  0.13335383,  1.07887102,  0.60680805,\n",
       "        -0.50103218],\n",
       "       [ 0.33118577,  1.41177585, -0.84987023,  0.96227383,  0.91702047,\n",
       "                inf,  1.30079633,  1.2246736 ,  0.71881254,  1.74073884,\n",
       "         0.36058396,  0.25312606,  1.4069511 , -0.31089467,  1.62792125,\n",
       "         0.84752813,  0.50894008,  0.65282471,  1.31437869,  1.29309493,\n",
       "        -0.80689408],\n",
       "       [ 0.23797968,  1.55048716, -0.62470699,  0.62943249,  0.67375528,\n",
       "         1.30079633,         inf,  1.03122748,  0.9412536 ,  1.52624831,\n",
       "         0.23126354,  0.55648523,  1.30725441, -0.20314197,  1.44146461,\n",
       "         0.78263525,  0.40935103,  0.99417473,  1.10879406,  1.73813752,\n",
       "        -0.65206448],\n",
       "       [ 0.27051965,  0.84916911, -0.43446814,  0.64245878,  0.96326859,\n",
       "         1.2246736 ,  1.03122748,         inf,  0.46676726,  1.78016887,\n",
       "         0.83835535,  0.48921943,  0.86112706,  0.03173881,  0.9609855 ,\n",
       "         0.5792    ,  0.4731717 ,  0.32991458,  0.87385544,  1.06545167,\n",
       "        -0.40083491],\n",
       "       [-0.3359912 ,  0.74913508, -0.36040999,  0.38462287,  0.15794484,\n",
       "         0.71881254,  0.9412536 ,  0.46676726,         inf,  0.68808019,\n",
       "        -0.10597546,  0.34734572,  0.76975466, -0.12387368,  0.97707912,\n",
       "         1.10498461,  0.7146494 ,  1.4971154 ,  0.40139323,  1.13111128,\n",
       "        -0.33091155],\n",
       "       [ 0.31723591,  1.23511681, -0.57391505,  0.87334989,  0.99252041,\n",
       "         1.74073884,  1.52624831,  1.78016887,  0.68808019,         inf,\n",
       "         0.59148197,  0.52096121,  1.15536515, -0.07515373,  1.32403232,\n",
       "         0.77241846,  0.52420794,  0.58251926,  1.17631462,  1.36642271,\n",
       "        -0.57169072],\n",
       "       [ 0.43494852,  0.12905536,  0.16086419,  0.44254457,  0.79035976,\n",
       "         0.36058396,  0.23126354,  0.83835535, -0.10597546,  0.59148197,\n",
       "                inf,  0.24947034,  0.19267357,  0.2604514 ,  0.17041406,\n",
       "         0.04525632,  0.34381535, -0.34280952,  0.28739278,  0.24506529,\n",
       "        -0.04602254],\n",
       "       [-0.23299138,  0.2247375 ,  0.08322229,  0.16492451,  0.25252495,\n",
       "         0.25312606,  0.55648523,  0.48921943,  0.34734572,  0.52096121,\n",
       "         0.24947034,         inf,  0.11766045,  0.86776508,  0.19638373,\n",
       "         0.35601108,  0.09960869,  0.43996633,  0.22686707,  0.32513721,\n",
       "         0.36032427],\n",
       "       [ 0.32178968,  1.42760685, -0.73384796,  0.66289722,  0.8120823 ,\n",
       "         1.4069511 ,  1.30725441,  0.86112706,  0.76975466,  1.15536515,\n",
       "         0.19267357,  0.11766045,         inf, -0.57087395,  1.87420827,\n",
       "         0.87642601,  0.48007516,  0.80627572,  1.05206152,  1.43688748,\n",
       "        -1.1059072 ],\n",
       "       [-0.53727368, -0.49364264,  0.57851488, -0.11390903, -0.09287846,\n",
       "        -0.31089467, -0.20314197,  0.03173881, -0.12387368, -0.07515373,\n",
       "         0.2604514 ,  0.86776508, -0.57087395,         inf, -0.4569489 ,\n",
       "        -0.02391904, -0.04152154, -0.16499592, -0.36189328, -0.33274827,\n",
       "         1.28928026],\n",
       "       [ 0.22334827,  1.58085633, -0.75801801,  0.66720014,  0.65613731,\n",
       "         1.62792125,  1.44146461,  0.9609855 ,  0.97707912,  1.32403232,\n",
       "         0.17041406,  0.19638373,  1.87420827, -0.4569489 ,         inf,\n",
       "         1.04049495,  0.62044849,  0.89911899,  1.02719632,  1.73033306,\n",
       "        -0.99043145],\n",
       "       [-0.26572542,  0.60707273, -0.25987172,  0.46329145,  0.37206718,\n",
       "         0.84752813,  0.78263525,  0.5792    ,  1.10498461,  0.77241846,\n",
       "         0.04525632,  0.35601108,  0.87642601, -0.02391904,  1.04049495,\n",
       "                inf,  0.94439715,  0.95648387,  0.40496237,  0.82716174,\n",
       "        -0.33479715],\n",
       "       [-0.08358656,  0.25093505,  0.18063579,  0.23347359,  0.13168097,\n",
       "         0.50894008,  0.40935103,  0.4731717 ,  0.7146494 ,  0.52420794,\n",
       "         0.34381535,  0.09960869,  0.48007516, -0.04152154,  0.62044849,\n",
       "         0.94439715,         inf,  0.38764863,  0.04374936,  0.54607737,\n",
       "        -0.26115296],\n",
       "       [-0.2992533 ,  0.78511727, -0.46363853,  0.27183978,  0.13335383,\n",
       "         0.65282471,  0.99417473,  0.32991458,  1.4971154 ,  0.58251926,\n",
       "        -0.34280952,  0.43996633,  0.80627572, -0.16499592,  0.89911899,\n",
       "         0.95648387,  0.38764863,         inf,  0.44757364,  0.95699202,\n",
       "        -0.34454176],\n",
       "       [ 0.58204694,  1.60574767, -1.16226458,  1.11286756,  1.07887102,\n",
       "         1.31437869,  1.10879406,  0.87385544,  0.40139323,  1.17631462,\n",
       "         0.28739278,  0.22686707,  1.05206152, -0.36189328,  1.02719632,\n",
       "         0.40496237,  0.04374936,  0.44757364,         inf,  0.92904964,\n",
       "        -0.86017185],\n",
       "       [ 0.13876208,  1.45793896, -0.64842344,  0.5634436 ,  0.60680805,\n",
       "         1.29309493,  1.73813752,  1.06545167,  1.13111128,  1.36642271,\n",
       "         0.24506529,  0.32513721,  1.43688748, -0.33274827,  1.73033306,\n",
       "         0.82716174,  0.54607737,  0.95699202,  0.92904964,         inf,\n",
       "        -0.74196062],\n",
       "       [-0.7597486 , -1.0555235 ,  0.76516627, -0.50501535, -0.50103218,\n",
       "        -0.80689408, -0.65206448, -0.40083491, -0.33091155, -0.57169072,\n",
       "        -0.04602254,  0.36032427, -1.1059072 ,  1.28928026, -0.99043145,\n",
       "        -0.33479715, -0.26115296, -0.34454176, -0.86017185, -0.74196062,\n",
       "                inf]])"
      ]
     },
     "execution_count": 135,
     "metadata": {},
     "output_type": "execute_result"
    }
   ],
   "source": [
    "np.arctanh(sub_dsm.samples)"
   ]
  },
  {
   "cell_type": "markdown",
   "metadata": {},
   "source": [
    "## Group analyses"
   ]
  },
  {
   "cell_type": "code",
   "execution_count": 94,
   "metadata": {
    "collapsed": false
   },
   "outputs": [],
   "source": [
    "full_stack = mvpa.vstack(dsm_list, a=0) \n",
    "mgs = mvpa.mean_group_sample([\"trial\"], order='occurrence')\n",
    "\n",
    "# conditioners vs non\n",
    "condit_idx = full_stack.sa.condit == 1\n",
    "noncondit_idx = full_stack.sa.condit == 0\n",
    "\n",
    "condit_stack = full_stack[condit_idx]\n",
    "noncondit_stack = full_stack[noncondit_idx]\n",
    "\n",
    "# dsms\n",
    "dsm_c = mgs(condit_stack)\n",
    "dsm_n = mgs(noncondit_stack)\n",
    "dsm_group = mgs(full_stack)\n",
    "\n",
    "# ?\n",
    "# dsm_c.samples = np.tanh(dsm_c.samples)\n",
    "# dsm_n.samples = np.tanh(dsm_n.samples)\n"
   ]
  },
  {
   "cell_type": "markdown",
   "metadata": {},
   "source": [
    "# Plots"
   ]
  },
  {
   "cell_type": "code",
   "execution_count": 112,
   "metadata": {
    "collapsed": false
   },
   "outputs": [],
   "source": [
    "import matplotlib.pyplot as plt\n",
    "import matplotlib as mpl\n",
    "%matplotlib inline"
   ]
  },
  {
   "cell_type": "code",
   "execution_count": 116,
   "metadata": {
    "collapsed": true
   },
   "outputs": [],
   "source": [
    "def plot_dsm(dsm, title = 'Corr distance'):\n",
    "    # figure\n",
    "    fig = plt.figure(figsize=(10,8))\n",
    "    plt.imshow(dsm, interpolation='nearest')\n",
    "    plt.xticks(np.arange(len(dsm))+.5, dsm.sa.trial, rotation=-45)\n",
    "    plt.yticks(range(len(dsm)), dsm.sa.trial)\n",
    "    plt.title(title)\n",
    "    plt.clim(-1, 1)\n",
    "    plt.colorbar()\n",
    "\n",
    "    # black square\n",
    "    ax = fig.add_subplot(111)\n",
    "    for xy in [-.5,6.5,13.5]:\n",
    "        ax.add_patch(mpl.patches.Rectangle((xy,xy),\n",
    "            7,7,linewidth=3,color='black',fill=False))"
   ]
  },
  {
   "cell_type": "code",
   "execution_count": 119,
   "metadata": {
    "collapsed": false
   },
   "outputs": [
    {
     "data": {
      "image/png": "[encoded data removed]",
      "text/plain": [
       "<matplotlib.figure.Figure at 0x11c1c2990>"
      ]
     },
     "metadata": {},
     "output_type": "display_data"
    }
   ],
   "source": [
    "plot_dsm(dsm_group)"
   ]
  },
  {
   "cell_type": "markdown",
   "metadata": {},
   "source": [
    "## Line plots\n"
   ]
  },
  {
   "cell_type": "code",
   "execution_count": 124,
   "metadata": {
    "collapsed": true
   },
   "outputs": [],
   "source": [
    "# gets diagonal entries\n",
    "def get_dmchange(dsm, stim):\n",
    "\n",
    "    # reduced matrix with sitm only \n",
    "    idx_stim = dsm.sa.stim == stim\n",
    "    stim_dsm = dsm[idx_stim,idx_stim]\n",
    "\n",
    "    # index for off diagonal\n",
    "    row_idx, col_idx = np.diag_indices(len(stim_dsm)-1)\n",
    "\n",
    "    # off diagonal\n",
    "    dm_change = stim_dsm.samples[[row_idx+1,col_idx]]\n",
    "    print dm_change\n",
    "\n",
    "    return dm_change\n",
    "\n",
    "# label x-axis\n",
    "def labelx():\n",
    "    xlab = [\"%i - %i\" % (i, i+1) for i in range(8)[1:]]\n",
    "    plt.xticks(np.arange(6), xlab, rotation = -45)"
   ]
  },
  {
   "cell_type": "markdown",
   "metadata": {},
   "source": [
    "### CS+ vs CS-"
   ]
  },
  {
   "cell_type": "code",
   "execution_count": 125,
   "metadata": {
    "collapsed": true
   },
   "outputs": [],
   "source": [
    "def dmchange_fig(dsm, stim_list=['CS+1','CS+2','CS-']):\n",
    "\n",
    "    # plot dissimilarity change\n",
    "    for stim in stim_list:\n",
    "        dmchange = get_dmchange(dsm, stim)\n",
    "        plt.plot(dmchange, label = stim)\n",
    "        plt.legend()\n",
    "\n",
    "    labelx()"
   ]
  },
  {
   "cell_type": "code",
   "execution_count": 129,
   "metadata": {
    "collapsed": false
   },
   "outputs": [
    {
     "data": {
      "text/plain": [
       "array([[        inf,  0.91247771,  0.8309011 ,  0.60062791,  0.71265217,\n",
       "         0.83626479,  0.80999873,  0.96346218,  1.16303826,  0.3677626 ,\n",
       "         0.75251316,  1.04722396,  0.57986084,  0.6057836 ,  1.20189943,\n",
       "         1.00821366,  0.93508749,  0.57714029,  0.82284763,  1.09861557,\n",
       "         1.15136902],\n",
       "       [ 0.91247771,         inf,  1.1068322 ,  0.8356136 ,  0.95144918,\n",
       "         1.10761823,  0.75252713,  1.15987339,  0.9606515 ,  0.68370528,\n",
       "         0.9473923 ,  1.03868641,  0.90079255,  0.76959271,  1.14602389,\n",
       "         1.24651608,  0.92425516,  0.64413405,  1.02985086,  0.77526483,\n",
       "         0.92730436],\n",
       "       [ 0.8309011 ,  1.1068322 ,         inf,  0.79180275,  0.87920473,\n",
       "         1.24007951,  0.64411523,  0.82938333,  1.04053239,  0.54987667,\n",
       "         1.20483443,  1.22180714,  1.20722343,  1.04245673,  1.27623741,\n",
       "         1.34256516,  1.07443603,  1.07657515,  1.39721542,  1.06434033,\n",
       "         1.05640628],\n",
       "       [ 0.60062791,  0.8356136 ,  0.79180275,         inf,  0.87188045,\n",
       "         0.82987573,  0.58350747,  0.44762945,  0.45875297,  0.6450431 ,\n",
       "         0.92562609,  0.57940957,  0.85315538,  0.70767015,  0.69217044,\n",
       "         0.9975481 ,  0.56704108,  0.66069807,  1.04730594,  0.29038485,\n",
       "         0.49271354],\n",
       "       [ 0.71265217,  0.95144918,  0.87920473,  0.87188045,         inf,\n",
       "         1.17987541,  0.55658005,  0.64628801,  0.72497823,  0.90842934,\n",
       "         0.84428678,  0.8750727 ,  0.86965182,  0.79181559,  0.77960885,\n",
       "         0.93049167,  0.76665815,  0.62652367,  0.97589162,  0.59041264,\n",
       "         0.63863946],\n",
       "       [ 0.83626479,  1.10761823,  1.24007951,  0.82987573,  1.17987541,\n",
       "                inf,  0.73539141,  0.78862773,  0.93307323,  0.68778714,\n",
       "         1.21987434,  1.28472205,  1.30573797,  1.1423366 ,  1.18855323,\n",
       "         1.26279938,  0.96929113,  0.97878407,  1.39602181,  1.18576756,\n",
       "         1.01744582],\n",
       "       [ 0.80999873,  0.75252713,  0.64411523,  0.58350747,  0.55658005,\n",
       "         0.73539141,         inf,  0.74539071,  0.69984882,  0.330587  ,\n",
       "         0.62450961,  0.93121787,  0.56930818,  0.60770448,  0.83692055,\n",
       "         0.61172218,  0.69836022,  0.33282176,  0.64664984,  0.85496442,\n",
       "         0.79183466],\n",
       "       [ 0.96346218,  1.15987339,  0.82938333,  0.44762945,  0.64628801,\n",
       "         0.78862773,  0.74539071,         inf,  1.08696124,  0.56344182,\n",
       "         0.60231015,  1.04798205,  0.75172932,  0.60449327,  1.28162227,\n",
       "         0.98965909,  0.93608785,  0.56587598,  0.89533117,  0.97139826,\n",
       "         1.02228862],\n",
       "       [ 1.16303826,  0.9606515 ,  1.04053239,  0.45875297,  0.72497823,\n",
       "         0.93307323,  0.69984882,  1.08696124,         inf,  0.62709923,\n",
       "         0.59281839,  1.29291289,  0.78619449,  0.86981812,  1.34494918,\n",
       "         1.0622641 ,  1.29909187,  0.77641732,  0.95102087,  1.18182597,\n",
       "         1.10859402],\n",
       "       [ 0.3677626 ,  0.68370528,  0.54987667,  0.6450431 ,  0.90842934,\n",
       "         0.68778714,  0.330587  ,  0.56344182,  0.62709923,         inf,\n",
       "         0.4876603 ,  0.57688246,  0.73543315,  0.83813434,  0.58093452,\n",
       "         0.65596324,  0.70603233,  0.79602957,  0.66114455,  0.20005708,\n",
       "         0.27937011],\n",
       "       [ 0.75251316,  0.9473923 ,  1.20483443,  0.92562609,  0.84428678,\n",
       "         1.21987434,  0.62450961,  0.60231015,  0.59281839,  0.4876603 ,\n",
       "                inf,  0.93605837,  1.05460786,  0.82167515,  0.96157394,\n",
       "         1.21162833,  0.74804234,  0.97545403,  1.22124197,  0.73640863,\n",
       "         0.90314155],\n",
       "       [ 1.04722396,  1.03868641,  1.22180714,  0.57940957,  0.8750727 ,\n",
       "         1.28472205,  0.93121787,  1.04798205,  1.29291289,  0.57688246,\n",
       "         0.93605837,         inf,  0.97902849,  0.91400553,  1.36769233,\n",
       "         1.08605392,  1.3408148 ,  0.8407163 ,  1.16722671,  1.32935774,\n",
       "         1.26337428],\n",
       "       [ 0.57986084,  0.90079255,  1.20722343,  0.85315538,  0.86965182,\n",
       "         1.30573797,  0.56930818,  0.75172932,  0.78619449,  0.73543315,\n",
       "         1.05460786,  0.97902849,         inf,  0.98781549,  0.93201527,\n",
       "         1.24430957,  0.84628209,  1.24279034,  1.56836671,  0.99557539,\n",
       "         0.89862993],\n",
       "       [ 0.6057836 ,  0.76959271,  1.04245673,  0.70767015,  0.79181559,\n",
       "         1.1423366 ,  0.60770448,  0.60449327,  0.86981812,  0.83813434,\n",
       "         0.82167515,  0.91400553,  0.98781549,         inf,  1.03654702,\n",
       "         1.01237842,  1.03181413,  1.0166321 ,  1.29364589,  0.68840839,\n",
       "         0.92870206],\n",
       "       [ 1.20189943,  1.14602389,  1.27623741,  0.69217044,  0.77960885,\n",
       "         1.18855323,  0.83692055,  1.28162227,  1.34494918,  0.58093452,\n",
       "         0.96157394,  1.36769233,  0.93201527,  1.03654702,         inf,\n",
       "         1.28368618,  1.24904129,  0.91688475,  1.18579076,  1.13541383,\n",
       "         1.14951916],\n",
       "       [ 1.00821366,  1.24651608,  1.34256516,  0.9975481 ,  0.93049167,\n",
       "         1.26279938,  0.61172218,  0.98965909,  1.0622641 ,  0.65596324,\n",
       "         1.21162833,  1.08605392,  1.24430957,  1.01237842,  1.28368618,\n",
       "                inf,  1.04797845,  1.07153561,  1.46572751,  0.93479944,\n",
       "         1.07698085],\n",
       "       [ 0.93508749,  0.92425516,  1.07443603,  0.56704108,  0.76665815,\n",
       "         0.96929113,  0.69836022,  0.93608785,  1.29909187,  0.70603233,\n",
       "         0.74804234,  1.3408148 ,  0.84628209,  1.03181413,  1.24904129,\n",
       "         1.04797845,         inf,  0.91732675,  1.08683261,  1.15586466,\n",
       "         1.10503278],\n",
       "       [ 0.57714029,  0.64413405,  1.07657515,  0.66069807,  0.62652367,\n",
       "         0.97878407,  0.33282176,  0.56587598,  0.77641732,  0.79602957,\n",
       "         0.97545403,  0.8407163 ,  1.24279034,  1.0166321 ,  0.91688475,\n",
       "         1.07153561,  0.91732675,         inf,  1.26679111,  0.77941658,\n",
       "         0.67558121],\n",
       "       [ 0.82284763,  1.02985086,  1.39721542,  1.04730594,  0.97589162,\n",
       "         1.39602181,  0.64664984,  0.89533117,  0.95102087,  0.66114455,\n",
       "         1.22124197,  1.16722671,  1.56836671,  1.29364589,  1.18579076,\n",
       "         1.46572751,  1.08683261,  1.26679111,         inf,  1.09859932,\n",
       "         1.13125653],\n",
       "       [ 1.09861557,  0.77526483,  1.06434033,  0.29038485,  0.59041264,\n",
       "         1.18576756,  0.85496442,  0.97139826,  1.18182597,  0.20005708,\n",
       "         0.73640863,  1.32935774,  0.99557539,  0.68840839,  1.13541383,\n",
       "         0.93479944,  1.15586466,  0.77941658,  1.09859932,         inf,\n",
       "         1.27993275],\n",
       "       [ 1.15136902,  0.92730436,  1.05640628,  0.49271354,  0.63863946,\n",
       "         1.01744582,  0.79183466,  1.02228862,  1.10859402,  0.27937011,\n",
       "         0.90314155,  1.26337428,  0.89862993,  0.92870206,  1.14951916,\n",
       "         1.07698085,  1.10503278,  0.67558121,  1.13125653,  1.27993275,\n",
       "                inf]])"
      ]
     },
     "execution_count": 129,
     "metadata": {},
     "output_type": "execute_result"
    }
   ],
   "source": [
    "dsm_c.samples\n"
   ]
  },
  {
   "cell_type": "markdown",
   "metadata": {},
   "source": [
    "### CS + conditioners vs CS+ non-conditioners"
   ]
  },
  {
   "cell_type": "code",
   "execution_count": 122,
   "metadata": {
    "collapsed": true
   },
   "outputs": [],
   "source": [
    "# CS+ conditioners vs CS+ non-conditioners\n",
    "def dmchange_fig2(dsm_c,dsm_n,stim_list=['CS+','CS-']):\n",
    "\n",
    "    for stim in stim_list:\n",
    "\n",
    "        # plot dissimilarity change\n",
    "        dmchange_c = get_dmchange(dsm_c, stim)\n",
    "        dmchange_n = get_dmchange(dsm_n, stim)\n",
    "\n",
    "        plt.plot(dmchange_c, label=\"C %s\" % stim)\n",
    "        plt.plot(dmchange_n, label=\"N %s\" % stim)\n",
    "        plt.legend()\n",
    "\n",
    "        labelx()\n",
    "        figsave(dsm_c, fname=\"%s_condVSnon\" % stim)"
   ]
  },
  {
   "cell_type": "code",
   "execution_count": null,
   "metadata": {
    "collapsed": true
   },
   "outputs": [],
   "source": []
  }
 ],
 "metadata": {
  "anaconda-cloud": {},
  "kernelspec": {
   "display_name": "Python [conda root]",
   "language": "python",
   "name": "conda-root-py"
  },
  "language_info": {
   "codemirror_mode": {
    "name": "ipython",
    "version": 2
   },
   "file_extension": ".py",
   "mimetype": "text/x-python",
   "name": "python",
   "nbconvert_exporter": "python",
   "pygments_lexer": "ipython2",
   "version": "2.7.12"
  }
 },
 "nbformat": 4,
 "nbformat_minor": 1
}

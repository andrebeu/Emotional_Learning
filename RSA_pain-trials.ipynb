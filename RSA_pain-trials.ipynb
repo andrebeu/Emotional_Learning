{
 "cells": [
  {
   "cell_type": "code",
   "execution_count": 17,
   "metadata": {
    "collapsed": true
   },
   "outputs": [],
   "source": [
    "main_dir = \"/Users/andrebeukers/Documents/fMRI/RVstudy/fromServ/Nov2_newFFA\""
   ]
  },
  {
   "cell_type": "code",
   "execution_count": 18,
   "metadata": {
    "collapsed": false
   },
   "outputs": [],
   "source": [
    "import os\n",
    "from os.path import join as opj\n",
    "from glob import glob\n",
    "import mvpa2.suite as mvpa\n",
    "import numpy as np\n",
    "import pandas as pd\n",
    "import plots_RV"
   ]
  },
  {
   "cell_type": "code",
   "execution_count": 19,
   "metadata": {
    "collapsed": true
   },
   "outputs": [],
   "source": [
    "task = 'pain'\n",
    "roi = 'lFFA'\n",
    "meanCSp = 0"
   ]
  },
  {
   "cell_type": "markdown",
   "metadata": {},
   "source": [
    "sample file: sub-007_TASK-pain_ROI-lFFA_GLMresults-nifti.nii.gz"
   ]
  },
  {
   "cell_type": "markdown",
   "metadata": {},
   "source": [
    "# Dirs"
   ]
  },
  {
   "cell_type": "code",
   "execution_count": 20,
   "metadata": {
    "collapsed": false
   },
   "outputs": [],
   "source": [
    "GLMresults_dir = opj(main_dir, '%s_GLM' % task)\n",
    "RSAresults_dir = opj(main_dir, '%s_RSA' % task)\n",
    "\n",
    "if not os.path.isdir(RSAresults_dir):\n",
    "    os.mkdir(RSAresults_dir)"
   ]
  },
  {
   "cell_type": "code",
   "execution_count": 21,
   "metadata": {
    "collapsed": false
   },
   "outputs": [],
   "source": [
    "ratings = pd.read_csv(opj(main_dir,\"mana_rate.csv\"))\n"
   ]
  },
  {
   "cell_type": "markdown",
   "metadata": {},
   "source": [
    "# Sample Attributes"
   ]
  },
  {
   "cell_type": "code",
   "execution_count": 22,
   "metadata": {
    "collapsed": true
   },
   "outputs": [],
   "source": [
    "t = lambda x,y: np.tile(x,y)\n",
    "tn = lambda x: np.arange(x)+1"
   ]
  },
  {
   "cell_type": "code",
   "execution_count": 23,
   "metadata": {
    "collapsed": false,
    "scrolled": true
   },
   "outputs": [],
   "source": [
    "roi_list = t(roi, 51)\n",
    "task_list = t(task, 51)\n",
    "\n",
    "# assume order of stim_times_IM in GLM file unchanged\n",
    "trialtype_list = np.concatenate(\n",
    "    ( t('tp',14), t('tm',7), t('cp',12), t('cm',6), t('us',12) ))\n",
    "\n",
    "trialnum_list = [1,1,2,2,3,3,4,4,5,5,6,6,7,7]\n",
    "trialnum_list.extend(np.arange(7) + 1)\n",
    "trialnum_list.extend(range(30))"
   ]
  },
  {
   "cell_type": "code",
   "execution_count": 24,
   "metadata": {
    "collapsed": true
   },
   "outputs": [],
   "source": [
    "# initialize (populate in loop)\n",
    "trial_list = np.chararray(len(trialtype_list), itemsize = 15)\n",
    "stim_list = np.chararray(len(trialtype_list), itemsize = 15)\n",
    "CS_list = np.chararray(len(trialtype_list), itemsize = 15)\n",
    "CSone_idx = 0; CStwo_idx = 0;"
   ]
  },
  {
   "cell_type": "code",
   "execution_count": 25,
   "metadata": {
    "collapsed": false
   },
   "outputs": [],
   "source": [
    "for i in range(len(trial_list)):\n",
    "    if (i < 14) & (i%2 == 0):\n",
    "        trial_list[i] = 'CS+1 %.2i' % trialnum_list[i]\n",
    "        stim_list[i] = 'CS+1'\n",
    "        CS_list[i] = 'CS+'\n",
    "    elif (i < 14) & (i%2 == 1):\n",
    "        CStwo_idx += 1\n",
    "        trial_list[i] = 'CS+2 %.2i' % trialnum_list[i]\n",
    "        stim_list[i] = 'CS+2'\n",
    "        CS_list[i] = 'CS+'\n",
    "    elif i < 14+7: \n",
    "        trial_list[i] = 'CS- %.2i' % trialnum_list[i]\n",
    "        stim_list[i] = 'CS-'\n",
    "        CS_list[i] = 'CS-'\n",
    "    else:\n",
    "        break"
   ]
  },
  {
   "cell_type": "markdown",
   "metadata": {},
   "source": [
    "# RSA loop"
   ]
  },
  {
   "cell_type": "code",
   "execution_count": 26,
   "metadata": {
    "collapsed": false
   },
   "outputs": [],
   "source": [
    "# prepare DSM \n",
    "dsm_measure = mvpa.measures.rsa.PDist(square=True)\n",
    "\n",
    "# loop containers\n",
    "ds_list = []; dsm_list = []\n",
    "\n",
    "# loop beta volumes (GLM results), load fmri_dataset\n",
    "GLMresults_list = glob(opj(GLMresults_dir,\"*%s*nifti*\" % roi))"
   ]
  },
  {
   "cell_type": "code",
   "execution_count": null,
   "metadata": {
    "collapsed": false
   },
   "outputs": [
    {
     "name": "stdout",
     "output_type": "stream",
     "text": [
      "RSAing subj: 007\n"
     ]
    },
    {
     "name": "stderr",
     "output_type": "stream",
     "text": [
      "/Users/andrebeukers/anaconda/lib/python2.7/site-packages/ipykernel/__main__.py:54: RuntimeWarning: divide by zero encountered in arctanh\n"
     ]
    },
    {
     "name": "stdout",
     "output_type": "stream",
     "text": [
      "RSAing subj: 009\n",
      "RSAing subj: 012\n",
      "RSAing subj: 014\n",
      "RSAing subj: 015\n",
      "RSAing subj: 016\n",
      "RSAing subj: 017\n"
     ]
    }
   ],
   "source": [
    "for fpath in GLMresults_list:\n",
    "\n",
    "    # file fpath and subject number\n",
    "    sub_num = fpath.split('/')[-1].split('_')[0].split('-')[-1]\n",
    "    print \"RSAing subj: \" + sub_num\n",
    "\n",
    "    # conditioner score \n",
    "    condit = ratings[ratings['Subject'] == int(sub_num)]['Conditioner']\n",
    "    \n",
    "    # load beta volumes of single subject\n",
    "    sub_ds = mvpa.fmri_dataset(fpath)\n",
    "    assert sub_ds.shape == (51, 141120)\n",
    "    \n",
    "    # sample attributes\n",
    "    sub_ds.sa['sub_num'] = \\\n",
    "        (np.ones(sub_ds.nsamples)*int(sub_num)).astype(int)\n",
    "    sub_ds.sa['trialtype'] = trialtype_list\n",
    "    sub_ds.sa['trialnum'] = trialnum_list\n",
    "    sub_ds.sa['roi'] = roi_list\n",
    "    sub_ds.sa['task'] = task_list\n",
    "    sub_ds.sa['stim'] = stim_list\n",
    "    sub_ds.sa['trial'] = trial_list\n",
    "    sub_ds.sa['condit'] = np.tile(condit,51)\n",
    "    sub_ds.sa['CS'] = CS_list\n",
    "\n",
    "    # get target trials only\n",
    "    idx_tp = (sub_ds.sa.trialtype == 'tp')\n",
    "    idx_tm = (sub_ds.sa.trialtype == 'tm')\n",
    "    sub_ds = sub_ds[idx_tp | idx_tm]\n",
    "    assert sub_ds.shape == (21, 141120)\n",
    "    # assert False\n",
    "    \n",
    "    # grouping CS+1 CS+2 CS-\n",
    "    t = range(0,13,2)\n",
    "    t.extend(range(1,14,2))\n",
    "    t.extend(range(14,21))\n",
    "    temp = []\n",
    "    for i in t:\n",
    "        temp.extend(sub_ds[i,:])\n",
    "    sub_ds = mvpa.vstack(temp,a=0)\n",
    "    \n",
    "    # avg(CS+1,CS+2) beta volumes\n",
    "    if meanCSp:\n",
    "        ds_plus = CSmean(sub_ds[sub_ds.sa.CS == 'CS+'])\n",
    "        ds_minus = sub_ds[sub_ds.sa.stim == 'CS-']\n",
    "        sub_ds = mvpa.vstack([ds_plus,ds_minus])\n",
    "        sub_ds.sa.stim[sub_ds.sa.stim == 'CS+1+CS+2'] = 'CS+'\n",
    "\n",
    "    # RDM -> RSM\n",
    "    sub_dsm = dsm_measure(sub_ds)\n",
    "    sub_dsm.samples = sub_dsm.samples * (-1) + 1\n",
    "    sub_dsm.fa['trial'] = sub_dsm.sa.trial[:]\n",
    "    \n",
    "    # fisher transform\n",
    "    sub_dsm.samples = np.arctanh(sub_dsm.samples)\n",
    "\n",
    "    # list of DSMs and DSs of each subject\n",
    "    if np.unique(sub_ds.sa.sub_num) not in [4, 6, 19, 20, 335]:\n",
    "        dsm_list.append(sub_dsm)\n",
    "        ds_list.append(sub_ds)\n"
   ]
  },
  {
   "cell_type": "code",
   "execution_count": 28,
   "metadata": {
    "collapsed": false
   },
   "outputs": [
    {
     "ename": "NameError",
     "evalue": "name 'sub_dsm' is not defined",
     "output_type": "error",
     "traceback": [
      "\u001b[0;31m---------------------------------------------------------------------------\u001b[0m",
      "\u001b[0;31mNameError\u001b[0m                                 Traceback (most recent call last)",
      "\u001b[0;32m<ipython-input-28-5797528c282c>\u001b[0m in \u001b[0;36m<module>\u001b[0;34m()\u001b[0m\n\u001b[0;32m----> 1\u001b[0;31m \u001b[0mnp\u001b[0m\u001b[0;34m.\u001b[0m\u001b[0marctanh\u001b[0m\u001b[0;34m(\u001b[0m\u001b[0msub_dsm\u001b[0m\u001b[0;34m.\u001b[0m\u001b[0msamples\u001b[0m\u001b[0;34m)\u001b[0m\u001b[0;34m\u001b[0m\u001b[0m\n\u001b[0m",
      "\u001b[0;31mNameError\u001b[0m: name 'sub_dsm' is not defined"
     ]
    }
   ],
   "source": []
  },
  {
   "cell_type": "markdown",
   "metadata": {},
   "source": [
    "## Group analyses"
   ]
  },
  {
   "cell_type": "code",
   "execution_count": null,
   "metadata": {
    "collapsed": false
   },
   "outputs": [],
   "source": [
    "full_stack = mvpa.vstack(dsm_list, a=0) \n",
    "mgs = mvpa.mean_group_sample([\"trial\"], order='occurrence')\n",
    "\n",
    "# conditioners vs non\n",
    "condit_idx = full_stack.sa.condit == 1\n",
    "noncondit_idx = full_stack.sa.condit == 0\n",
    "\n",
    "condit_stack = full_stack[condit_idx]\n",
    "noncondit_stack = full_stack[noncondit_idx]\n",
    "\n",
    "# dsms\n",
    "dsm_c = mgs(condit_stack)\n",
    "dsm_n = mgs(noncondit_stack)\n",
    "dsm_group = mgs(full_stack)\n",
    "\n",
    "# ?\n",
    "# dsm_c.samples = np.tanh(dsm_c.samples)\n",
    "# dsm_n.samples = np.tanh(dsm_n.samples)\n"
   ]
  },
  {
   "cell_type": "markdown",
   "metadata": {},
   "source": [
    "# Plots"
   ]
  },
  {
   "cell_type": "code",
   "execution_count": null,
   "metadata": {
    "collapsed": false
   },
   "outputs": [],
   "source": [
    "import matplotlib.pyplot as plt\n",
    "import matplotlib as mpl\n",
    "%matplotlib inline"
   ]
  },
  {
   "cell_type": "code",
   "execution_count": null,
   "metadata": {
    "collapsed": true
   },
   "outputs": [],
   "source": [
    "def plot_dsm(dsm, title = 'Corr distance'):\n",
    "    # figure\n",
    "    fig = plt.figure(figsize=(10,8))\n",
    "    plt.imshow(dsm, interpolation='nearest')\n",
    "    plt.xticks(np.arange(len(dsm))+.5, dsm.sa.trial, rotation=-45)\n",
    "    plt.yticks(range(len(dsm)), dsm.sa.trial)\n",
    "    plt.title(title)\n",
    "    plt.clim(-1, 1)\n",
    "    plt.colorbar()\n",
    "\n",
    "    # black square\n",
    "    ax = fig.add_subplot(111)\n",
    "    for xy in [-.5,6.5,13.5]:\n",
    "        ax.add_patch(mpl.patches.Rectangle((xy,xy),\n",
    "            7,7,linewidth=3,color='black',fill=False))"
   ]
  },
  {
   "cell_type": "code",
   "execution_count": null,
   "metadata": {
    "collapsed": false
   },
   "outputs": [],
   "source": [
    "plot_dsm(dsm_group)"
   ]
  },
  {
   "cell_type": "markdown",
   "metadata": {},
   "source": [
    "## Line plots\n"
   ]
  },
  {
   "cell_type": "code",
   "execution_count": null,
   "metadata": {
    "collapsed": true
   },
   "outputs": [],
   "source": [
    "# gets diagonal entries\n",
    "def get_dmchange(dsm, stim):\n",
    "\n",
    "    # reduced matrix with sitm only \n",
    "    idx_stim = dsm.sa.stim == stim\n",
    "    stim_dsm = dsm[idx_stim,idx_stim]\n",
    "\n",
    "    # index for off diagonal\n",
    "    row_idx, col_idx = np.diag_indices(len(stim_dsm)-1)\n",
    "\n",
    "    # off diagonal\n",
    "    dm_change = stim_dsm.samples[[row_idx+1,col_idx]]\n",
    "    print dm_change\n",
    "\n",
    "    return dm_change\n",
    "\n",
    "# label x-axis\n",
    "def labelx():\n",
    "    xlab = [\"%i - %i\" % (i, i+1) for i in range(8)[1:]]\n",
    "    plt.xticks(np.arange(6), xlab, rotation = -45)"
   ]
  },
  {
   "cell_type": "markdown",
   "metadata": {},
   "source": [
    "### CS+ vs CS-"
   ]
  },
  {
   "cell_type": "code",
   "execution_count": null,
   "metadata": {
    "collapsed": true
   },
   "outputs": [],
   "source": [
    "def dmchange_fig(dsm, stim_list=['CS+1','CS+2','CS-']):\n",
    "\n",
    "    # plot dissimilarity change\n",
    "    for stim in stim_list:\n",
    "        dmchange = get_dmchange(dsm, stim)\n",
    "        plt.plot(dmchange, label = stim)\n",
    "        plt.legend()\n",
    "\n",
    "    labelx()"
   ]
  },
  {
   "cell_type": "code",
   "execution_count": null,
   "metadata": {
    "collapsed": false
   },
   "outputs": [],
   "source": [
    "dmchange_fig(dsm_c)"
   ]
  },
  {
   "cell_type": "markdown",
   "metadata": {},
   "source": [
    "### CS + conditioners vs CS+ non-conditioners"
   ]
  },
  {
   "cell_type": "code",
   "execution_count": null,
   "metadata": {
    "collapsed": true
   },
   "outputs": [],
   "source": [
    "# CS+ conditioners vs CS+ non-conditioners\n",
    "def dmchange_fig2(dsm_c,dsm_n,stim_list=['CS+','CS-']):\n",
    "\n",
    "    for stim in stim_list:\n",
    "\n",
    "        # plot dissimilarity change\n",
    "        dmchange_c = get_dmchange(dsm_c, stim)\n",
    "        dmchange_n = get_dmchange(dsm_n, stim)\n",
    "\n",
    "        plt.plot(dmchange_c, label=\"C %s\" % stim)\n",
    "        plt.plot(dmchange_n, label=\"N %s\" % stim)\n",
    "        plt.legend()\n",
    "\n",
    "        labelx()\n",
    "        figsave(dsm_c, fname=\"%s_condVSnon\" % stim)"
   ]
  },
  {
   "cell_type": "code",
   "execution_count": null,
   "metadata": {
    "collapsed": true
   },
   "outputs": [],
   "source": [
    "dmchange_fig(dsm_c)"
   ]
  }
 ],
 "metadata": {
  "anaconda-cloud": {},
  "kernelspec": {
   "display_name": "Python [conda root]",
   "language": "python",
   "name": "conda-root-py"
  },
  "language_info": {
   "codemirror_mode": {
    "name": "ipython",
    "version": 2
   },
   "file_extension": ".py",
   "mimetype": "text/x-python",
   "name": "python",
   "nbconvert_exporter": "python",
   "pygments_lexer": "ipython2",
   "version": "2.7.12"
  }
 },
 "nbformat": 4,
 "nbformat_minor": 1
}
